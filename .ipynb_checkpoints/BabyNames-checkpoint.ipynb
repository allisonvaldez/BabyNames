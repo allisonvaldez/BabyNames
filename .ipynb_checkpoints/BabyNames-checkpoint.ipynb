{
 "cells": [
  {
   "cell_type": "markdown",
   "id": "1ebd23c4-f5d7-4679-980f-50f7063ece0b",
   "metadata": {},
   "source": [
    "# Baby Names from 1880-2010\n",
    "\n",
    "This is an analysis of the data provided by the United States Social Security Administration. The data details the frequency of baby names from 1880 to present day. The project provided experience with data wrangling to load the dataset in the proper format, exposure to troubleshooting and common problems working with large data sets, and exploration of time series analysis. If there are any questions or concerns the author may be contacted to discuss analysis and methodology."
   ]
  },
  {
   "cell_type": "code",
   "execution_count": 26,
   "id": "895f5db7-4c90-45c3-9982-584c123c3961",
   "metadata": {},
   "outputs": [],
   "source": [
    "# Start with imports\n",
    "from numpy import *\n",
    "from matplotlib import * \n",
    "import pandas as pd\n",
    "import seaborn as sns\n",
    "import matplotlib.pyplot as plt "
   ]
  },
  {
   "cell_type": "markdown",
   "id": "ee15ff76-c6c5-4a13-9175-96e910b9488a",
   "metadata": {},
   "source": [
    "To preview one of the text file's data, read the file using the .read_csv() function. Set the column titles to: name, sex, and births."
   ]
  },
  {
   "cell_type": "code",
   "execution_count": 38,
   "id": "141572ee-50ce-447b-8e73-e593e13550fd",
   "metadata": {},
   "outputs": [],
   "source": [
    "names1880 = pd.read_csv('yob1880.txt', names=['name', 'sex', 'births'])"
   ]
  },
  {
   "cell_type": "code",
   "execution_count": null,
   "id": "66ddd640-c5a1-4b24-bbea-1fc1b29f9c5f",
   "metadata": {},
   "outputs": [],
   "source": [
    "# Preview the data:\n",
    "names1880"
   ]
  },
  {
   "cell_type": "code",
   "execution_count": null,
   "id": "88e658ea-7068-45d6-8236-c07aac9c2edc",
   "metadata": {},
   "outputs": [],
   "source": []
  },
  {
   "cell_type": "code",
   "execution_count": null,
   "id": "21881d54-4f70-451f-9594-ce7332a46756",
   "metadata": {},
   "outputs": [],
   "source": []
  },
  {
   "cell_type": "code",
   "execution_count": null,
   "id": "94ea0a7d-c16f-4cee-b8ec-9b28d9afc7bb",
   "metadata": {},
   "outputs": [],
   "source": []
  },
  {
   "cell_type": "code",
   "execution_count": null,
   "id": "bbfac5db-9adc-4eb5-9218-a221ce45d58b",
   "metadata": {},
   "outputs": [],
   "source": []
  },
  {
   "cell_type": "code",
   "execution_count": null,
   "id": "542b071c-afd8-4172-a137-288af4d5e719",
   "metadata": {},
   "outputs": [],
   "source": []
  },
  {
   "cell_type": "code",
   "execution_count": null,
   "id": "101951ac-42de-47b9-94b6-b36539df4a1c",
   "metadata": {},
   "outputs": [],
   "source": []
  },
  {
   "cell_type": "code",
   "execution_count": null,
   "id": "92a800c3-16aa-4b9f-9976-bf1c13e54249",
   "metadata": {},
   "outputs": [],
   "source": []
  }
 ],
 "metadata": {
  "kernelspec": {
   "display_name": "Python [conda env:base] *",
   "language": "python",
   "name": "conda-base-py"
  },
  "language_info": {
   "codemirror_mode": {
    "name": "ipython",
    "version": 3
   },
   "file_extension": ".py",
   "mimetype": "text/x-python",
   "name": "python",
   "nbconvert_exporter": "python",
   "pygments_lexer": "ipython3",
   "version": "3.12.7"
  }
 },
 "nbformat": 4,
 "nbformat_minor": 5
}
