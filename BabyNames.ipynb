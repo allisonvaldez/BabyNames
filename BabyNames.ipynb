{
 "cells": [
  {
   "cell_type": "markdown",
   "id": "1ebd23c4-f5d7-4679-980f-50f7063ece0b",
   "metadata": {},
   "source": [
    "# Baby Names from 1880-2010\n",
    "\n",
    "This is an analysis of the data provided by the United States Social Security Administration. The data details the frequency of baby names from 1880 to present day. The project provided experience with data wrangling to load the dataset in the proper format, exposure to troubleshooting and common problems working with large data sets, and exploration of time series analysis. If there are any questions or concerns the author may be contacted to discuss analysis and methodology."
   ]
  },
  {
   "cell_type": "code",
   "execution_count": 794,
   "id": "895f5db7-4c90-45c3-9982-584c123c3961",
   "metadata": {},
   "outputs": [],
   "source": [
    "# Start with imports\n",
    "from numpy import *\n",
    "from matplotlib import * \n",
    "import pandas as pd\n",
    "import seaborn as sns\n",
    "import matplotlib.pyplot as plt\n",
    "import numpy as np "
   ]
  },
  {
   "cell_type": "markdown",
   "id": "ee15ff76-c6c5-4a13-9175-96e910b9488a",
   "metadata": {},
   "source": [
    "To preview one of the text file's data, read the file using the .read_csv() function. Set the column titles to: name, sex, and births."
   ]
  },
  {
   "cell_type": "code",
   "execution_count": 797,
   "id": "141572ee-50ce-447b-8e73-e593e13550fd",
   "metadata": {},
   "outputs": [],
   "source": [
    "names1880 = pd.read_csv('yob1880.txt', names=['name', 'sex', 'births'])"
   ]
  },
  {
   "cell_type": "code",
   "execution_count": 799,
   "id": "66ddd640-c5a1-4b24-bbea-1fc1b29f9c5f",
   "metadata": {},
   "outputs": [
    {
     "data": {
      "text/html": [
       "<div>\n",
       "<style scoped>\n",
       "    .dataframe tbody tr th:only-of-type {\n",
       "        vertical-align: middle;\n",
       "    }\n",
       "\n",
       "    .dataframe tbody tr th {\n",
       "        vertical-align: top;\n",
       "    }\n",
       "\n",
       "    .dataframe thead th {\n",
       "        text-align: right;\n",
       "    }\n",
       "</style>\n",
       "<table border=\"1\" class=\"dataframe\">\n",
       "  <thead>\n",
       "    <tr style=\"text-align: right;\">\n",
       "      <th></th>\n",
       "      <th>name</th>\n",
       "      <th>sex</th>\n",
       "      <th>births</th>\n",
       "    </tr>\n",
       "  </thead>\n",
       "  <tbody>\n",
       "    <tr>\n",
       "      <th>0</th>\n",
       "      <td>Mary</td>\n",
       "      <td>F</td>\n",
       "      <td>7065</td>\n",
       "    </tr>\n",
       "    <tr>\n",
       "      <th>1</th>\n",
       "      <td>Anna</td>\n",
       "      <td>F</td>\n",
       "      <td>2604</td>\n",
       "    </tr>\n",
       "    <tr>\n",
       "      <th>2</th>\n",
       "      <td>Emma</td>\n",
       "      <td>F</td>\n",
       "      <td>2003</td>\n",
       "    </tr>\n",
       "    <tr>\n",
       "      <th>3</th>\n",
       "      <td>Elizabeth</td>\n",
       "      <td>F</td>\n",
       "      <td>1939</td>\n",
       "    </tr>\n",
       "    <tr>\n",
       "      <th>4</th>\n",
       "      <td>Minnie</td>\n",
       "      <td>F</td>\n",
       "      <td>1746</td>\n",
       "    </tr>\n",
       "    <tr>\n",
       "      <th>...</th>\n",
       "      <td>...</td>\n",
       "      <td>...</td>\n",
       "      <td>...</td>\n",
       "    </tr>\n",
       "    <tr>\n",
       "      <th>1995</th>\n",
       "      <td>Woodie</td>\n",
       "      <td>M</td>\n",
       "      <td>5</td>\n",
       "    </tr>\n",
       "    <tr>\n",
       "      <th>1996</th>\n",
       "      <td>Worthy</td>\n",
       "      <td>M</td>\n",
       "      <td>5</td>\n",
       "    </tr>\n",
       "    <tr>\n",
       "      <th>1997</th>\n",
       "      <td>Wright</td>\n",
       "      <td>M</td>\n",
       "      <td>5</td>\n",
       "    </tr>\n",
       "    <tr>\n",
       "      <th>1998</th>\n",
       "      <td>York</td>\n",
       "      <td>M</td>\n",
       "      <td>5</td>\n",
       "    </tr>\n",
       "    <tr>\n",
       "      <th>1999</th>\n",
       "      <td>Zachariah</td>\n",
       "      <td>M</td>\n",
       "      <td>5</td>\n",
       "    </tr>\n",
       "  </tbody>\n",
       "</table>\n",
       "<p>2000 rows × 3 columns</p>\n",
       "</div>"
      ],
      "text/plain": [
       "           name sex  births\n",
       "0          Mary   F    7065\n",
       "1          Anna   F    2604\n",
       "2          Emma   F    2003\n",
       "3     Elizabeth   F    1939\n",
       "4        Minnie   F    1746\n",
       "...         ...  ..     ...\n",
       "1995     Woodie   M       5\n",
       "1996     Worthy   M       5\n",
       "1997     Wright   M       5\n",
       "1998       York   M       5\n",
       "1999  Zachariah   M       5\n",
       "\n",
       "[2000 rows x 3 columns]"
      ]
     },
     "execution_count": 799,
     "metadata": {},
     "output_type": "execute_result"
    }
   ],
   "source": [
    "# Preview the data:\n",
    "names1880"
   ]
  },
  {
   "cell_type": "markdown",
   "id": "e43a87e8-d61c-4321-a281-674293f2a410",
   "metadata": {},
   "source": [
    "To view the total births for that year group the data by sex, and then utilize the .sum() function."
   ]
  },
  {
   "cell_type": "code",
   "execution_count": 802,
   "id": "21881d54-4f70-451f-9594-ce7332a46756",
   "metadata": {},
   "outputs": [
    {
     "data": {
      "text/plain": [
       "sex\n",
       "F     90993\n",
       "M    110493\n",
       "Name: births, dtype: int64"
      ]
     },
     "execution_count": 802,
     "metadata": {},
     "output_type": "execute_result"
    }
   ],
   "source": [
    "names1880.groupby('sex').births.sum()"
   ]
  },
  {
   "cell_type": "markdown",
   "id": "3a153d6b-86e8-41f1-94f8-5b784e227d8f",
   "metadata": {},
   "source": [
    "Merge all of the text files into one file. Make sure to add a column to account for each of the different birth years in the dataset. At the end of the code block, make sure to concatenate everything into a single DataFrame (and it does so row-wise)."
   ]
  },
  {
   "cell_type": "code",
   "execution_count": 805,
   "id": "94ea0a7d-c16f-4cee-b8ec-9b28d9afc7bb",
   "metadata": {},
   "outputs": [],
   "source": [
    "years = range(1880, 2011)\n",
    "\n",
    "pieces = []\n",
    "columns = ['name', 'sex', 'births']\n",
    "\n",
    "for year in years:\n",
    "    path = 'yob%d.txt' % year\n",
    "    frame = pd.read_csv(path, names=columns)\n",
    "    frame['year'] = year\n",
    "    pieces.append(frame)\n",
    "    names = pd.concat(pieces, ignore_index=True)"
   ]
  },
  {
   "cell_type": "code",
   "execution_count": 806,
   "id": "bbfac5db-9adc-4eb5-9218-a221ce45d58b",
   "metadata": {},
   "outputs": [
    {
     "data": {
      "text/html": [
       "<div>\n",
       "<style scoped>\n",
       "    .dataframe tbody tr th:only-of-type {\n",
       "        vertical-align: middle;\n",
       "    }\n",
       "\n",
       "    .dataframe tbody tr th {\n",
       "        vertical-align: top;\n",
       "    }\n",
       "\n",
       "    .dataframe thead th {\n",
       "        text-align: right;\n",
       "    }\n",
       "</style>\n",
       "<table border=\"1\" class=\"dataframe\">\n",
       "  <thead>\n",
       "    <tr style=\"text-align: right;\">\n",
       "      <th></th>\n",
       "      <th>name</th>\n",
       "      <th>sex</th>\n",
       "      <th>births</th>\n",
       "      <th>year</th>\n",
       "    </tr>\n",
       "  </thead>\n",
       "  <tbody>\n",
       "    <tr>\n",
       "      <th>0</th>\n",
       "      <td>Mary</td>\n",
       "      <td>F</td>\n",
       "      <td>7065</td>\n",
       "      <td>1880</td>\n",
       "    </tr>\n",
       "    <tr>\n",
       "      <th>1</th>\n",
       "      <td>Anna</td>\n",
       "      <td>F</td>\n",
       "      <td>2604</td>\n",
       "      <td>1880</td>\n",
       "    </tr>\n",
       "    <tr>\n",
       "      <th>2</th>\n",
       "      <td>Emma</td>\n",
       "      <td>F</td>\n",
       "      <td>2003</td>\n",
       "      <td>1880</td>\n",
       "    </tr>\n",
       "    <tr>\n",
       "      <th>3</th>\n",
       "      <td>Elizabeth</td>\n",
       "      <td>F</td>\n",
       "      <td>1939</td>\n",
       "      <td>1880</td>\n",
       "    </tr>\n",
       "    <tr>\n",
       "      <th>4</th>\n",
       "      <td>Minnie</td>\n",
       "      <td>F</td>\n",
       "      <td>1746</td>\n",
       "      <td>1880</td>\n",
       "    </tr>\n",
       "    <tr>\n",
       "      <th>...</th>\n",
       "      <td>...</td>\n",
       "      <td>...</td>\n",
       "      <td>...</td>\n",
       "      <td>...</td>\n",
       "    </tr>\n",
       "    <tr>\n",
       "      <th>1690779</th>\n",
       "      <td>Zymaire</td>\n",
       "      <td>M</td>\n",
       "      <td>5</td>\n",
       "      <td>2010</td>\n",
       "    </tr>\n",
       "    <tr>\n",
       "      <th>1690780</th>\n",
       "      <td>Zyonne</td>\n",
       "      <td>M</td>\n",
       "      <td>5</td>\n",
       "      <td>2010</td>\n",
       "    </tr>\n",
       "    <tr>\n",
       "      <th>1690781</th>\n",
       "      <td>Zyquarius</td>\n",
       "      <td>M</td>\n",
       "      <td>5</td>\n",
       "      <td>2010</td>\n",
       "    </tr>\n",
       "    <tr>\n",
       "      <th>1690782</th>\n",
       "      <td>Zyran</td>\n",
       "      <td>M</td>\n",
       "      <td>5</td>\n",
       "      <td>2010</td>\n",
       "    </tr>\n",
       "    <tr>\n",
       "      <th>1690783</th>\n",
       "      <td>Zzyzx</td>\n",
       "      <td>M</td>\n",
       "      <td>5</td>\n",
       "      <td>2010</td>\n",
       "    </tr>\n",
       "  </tbody>\n",
       "</table>\n",
       "<p>1690784 rows × 4 columns</p>\n",
       "</div>"
      ],
      "text/plain": [
       "              name sex  births  year\n",
       "0             Mary   F    7065  1880\n",
       "1             Anna   F    2604  1880\n",
       "2             Emma   F    2003  1880\n",
       "3        Elizabeth   F    1939  1880\n",
       "4           Minnie   F    1746  1880\n",
       "...            ...  ..     ...   ...\n",
       "1690779    Zymaire   M       5  2010\n",
       "1690780     Zyonne   M       5  2010\n",
       "1690781  Zyquarius   M       5  2010\n",
       "1690782      Zyran   M       5  2010\n",
       "1690783      Zzyzx   M       5  2010\n",
       "\n",
       "[1690784 rows x 4 columns]"
      ]
     },
     "execution_count": 806,
     "metadata": {},
     "output_type": "execute_result"
    }
   ],
   "source": [
    "# Preview the data \n",
    "names"
   ]
  },
  {
   "cell_type": "markdown",
   "id": "2c7c8536-36ae-4c95-b60a-acbd029e9351",
   "metadata": {},
   "source": [
    "We need to aggregate the data by year and gender, to do that we will use python's .pivot_table() function. Our index will be the year and the columns will dictate the gender of the baby."
   ]
  },
  {
   "cell_type": "code",
   "execution_count": 810,
   "id": "101951ac-42de-47b9-94b6-b36539df4a1c",
   "metadata": {},
   "outputs": [],
   "source": [
    "total_births = names.pivot_table('births', \n",
    "                                 index='year', \n",
    "                                 columns='sex', \n",
    "                                 aggfunc='sum')"
   ]
  },
  {
   "cell_type": "code",
   "execution_count": 812,
   "id": "92a800c3-16aa-4b9f-9976-bf1c13e54249",
   "metadata": {},
   "outputs": [
    {
     "data": {
      "text/html": [
       "<div>\n",
       "<style scoped>\n",
       "    .dataframe tbody tr th:only-of-type {\n",
       "        vertical-align: middle;\n",
       "    }\n",
       "\n",
       "    .dataframe tbody tr th {\n",
       "        vertical-align: top;\n",
       "    }\n",
       "\n",
       "    .dataframe thead th {\n",
       "        text-align: right;\n",
       "    }\n",
       "</style>\n",
       "<table border=\"1\" class=\"dataframe\">\n",
       "  <thead>\n",
       "    <tr style=\"text-align: right;\">\n",
       "      <th>sex</th>\n",
       "      <th>F</th>\n",
       "      <th>M</th>\n",
       "    </tr>\n",
       "    <tr>\n",
       "      <th>year</th>\n",
       "      <th></th>\n",
       "      <th></th>\n",
       "    </tr>\n",
       "  </thead>\n",
       "  <tbody>\n",
       "    <tr>\n",
       "      <th>2006</th>\n",
       "      <td>1896468</td>\n",
       "      <td>2050234</td>\n",
       "    </tr>\n",
       "    <tr>\n",
       "      <th>2007</th>\n",
       "      <td>1916888</td>\n",
       "      <td>2069242</td>\n",
       "    </tr>\n",
       "    <tr>\n",
       "      <th>2008</th>\n",
       "      <td>1883645</td>\n",
       "      <td>2032310</td>\n",
       "    </tr>\n",
       "    <tr>\n",
       "      <th>2009</th>\n",
       "      <td>1827643</td>\n",
       "      <td>1973359</td>\n",
       "    </tr>\n",
       "    <tr>\n",
       "      <th>2010</th>\n",
       "      <td>1759010</td>\n",
       "      <td>1898382</td>\n",
       "    </tr>\n",
       "  </tbody>\n",
       "</table>\n",
       "</div>"
      ],
      "text/plain": [
       "sex         F        M\n",
       "year                  \n",
       "2006  1896468  2050234\n",
       "2007  1916888  2069242\n",
       "2008  1883645  2032310\n",
       "2009  1827643  1973359\n",
       "2010  1759010  1898382"
      ]
     },
     "execution_count": 812,
     "metadata": {},
     "output_type": "execute_result"
    }
   ],
   "source": [
    "# Preview the latter part of the data: \n",
    "total_births.tail()"
   ]
  },
  {
   "cell_type": "markdown",
   "id": "cb3778e6-7774-498d-923c-951748c0332d",
   "metadata": {},
   "source": [
    "Let's visualize the data that we have wrangled so far:"
   ]
  },
  {
   "cell_type": "code",
   "execution_count": 815,
   "id": "7ce907c3-1607-425e-9a8f-0a173adca370",
   "metadata": {},
   "outputs": [
    {
     "data": {
      "text/plain": [
       "<Axes: title={'center': 'Total births by sex and year'}, xlabel='year'>"
      ]
     },
     "execution_count": 815,
     "metadata": {},
     "output_type": "execute_result"
    },
    {
     "data": {
      "image/png": "[encoded data removed]",
      "text/plain": [
       "<Figure size 640x480 with 1 Axes>"
      ]
     },
     "metadata": {},
     "output_type": "display_data"
    }
   ],
   "source": [
    "total_births.plot(title=\"Total births by sex and year\")"
   ]
  },
  {
   "cell_type": "markdown",
   "id": "064c19cb-8760-4a8d-9c3e-a951eee510c4",
   "metadata": {},
   "source": [
    "Next manipulate the data by grouping it by year and sex, add adding a column to track the proportion of babies given certain name relative to number of births."
   ]
  },
  {
   "cell_type": "code",
   "execution_count": 818,
   "id": "2ced0d20-30d0-4701-ac93-32b4079fc88f",
   "metadata": {},
   "outputs": [],
   "source": [
    "def add_prop(group):\n",
    "    # Integer division floors \n",
    "    births = group.births.astype(float)\n",
    "    group['prop'] = births / births.sum()\n",
    "    return group"
   ]
  },
  {
   "cell_type": "markdown",
   "id": "7d444dfc-7c65-488c-afda-d1a46dacac72",
   "metadata": {},
   "source": [
    "Two things to note: make sure to reset the index prior to grouping the data due to a depreciation warming. Furthermore, for the .apply() function make sure to include a False include_groups due to a depreciation warning. At the time of this analysis there were changes to python that threw deprecation warnings. The code was updated to account for that and to refactor the code:"
   ]
  },
  {
   "cell_type": "code",
   "execution_count": 821,
   "id": "d08c944b-02bc-4770-bfbd-396ec84961e2",
   "metadata": {},
   "outputs": [
    {
     "name": "stderr",
     "output_type": "stream",
     "text": [
      "/var/folders/lf/rdt47vg15r91f1ss8t57lchr0000gn/T/ipykernel_18468/801961573.py:1: DeprecationWarning: DataFrameGroupBy.apply operated on the grouping columns. This behavior is deprecated, and in a future version of pandas the grouping columns will be excluded from the operation. Either pass `include_groups=False` to exclude the groupings or explicitly select the grouping columns after groupby to silence this warning.\n",
      "  names = names.groupby(['year', 'sex']).apply(add_prop)\n"
     ]
    }
   ],
   "source": [
    "names = names.groupby(['year', 'sex']).apply(add_prop)\n",
    "#names = names.reset_index(drop=True).groupby(['year', 'sex']).apply(add_prop,include_groups=False)"
   ]
  },
  {
   "cell_type": "code",
   "execution_count": 823,
   "id": "36228f34-2a91-4e21-aa08-f730e1a823ab",
   "metadata": {},
   "outputs": [
    {
     "data": {
      "text/html": [
       "<div>\n",
       "<style scoped>\n",
       "    .dataframe tbody tr th:only-of-type {\n",
       "        vertical-align: middle;\n",
       "    }\n",
       "\n",
       "    .dataframe tbody tr th {\n",
       "        vertical-align: top;\n",
       "    }\n",
       "\n",
       "    .dataframe thead th {\n",
       "        text-align: right;\n",
       "    }\n",
       "</style>\n",
       "<table border=\"1\" class=\"dataframe\">\n",
       "  <thead>\n",
       "    <tr style=\"text-align: right;\">\n",
       "      <th></th>\n",
       "      <th></th>\n",
       "      <th></th>\n",
       "      <th>name</th>\n",
       "      <th>sex</th>\n",
       "      <th>births</th>\n",
       "      <th>year</th>\n",
       "      <th>prop</th>\n",
       "    </tr>\n",
       "    <tr>\n",
       "      <th>year</th>\n",
       "      <th>sex</th>\n",
       "      <th></th>\n",
       "      <th></th>\n",
       "      <th></th>\n",
       "      <th></th>\n",
       "      <th></th>\n",
       "      <th></th>\n",
       "    </tr>\n",
       "  </thead>\n",
       "  <tbody>\n",
       "    <tr>\n",
       "      <th rowspan=\"5\" valign=\"top\">1880</th>\n",
       "      <th rowspan=\"5\" valign=\"top\">F</th>\n",
       "      <th>0</th>\n",
       "      <td>Mary</td>\n",
       "      <td>F</td>\n",
       "      <td>7065</td>\n",
       "      <td>1880</td>\n",
       "      <td>0.077643</td>\n",
       "    </tr>\n",
       "    <tr>\n",
       "      <th>1</th>\n",
       "      <td>Anna</td>\n",
       "      <td>F</td>\n",
       "      <td>2604</td>\n",
       "      <td>1880</td>\n",
       "      <td>0.028618</td>\n",
       "    </tr>\n",
       "    <tr>\n",
       "      <th>2</th>\n",
       "      <td>Emma</td>\n",
       "      <td>F</td>\n",
       "      <td>2003</td>\n",
       "      <td>1880</td>\n",
       "      <td>0.022013</td>\n",
       "    </tr>\n",
       "    <tr>\n",
       "      <th>3</th>\n",
       "      <td>Elizabeth</td>\n",
       "      <td>F</td>\n",
       "      <td>1939</td>\n",
       "      <td>1880</td>\n",
       "      <td>0.021309</td>\n",
       "    </tr>\n",
       "    <tr>\n",
       "      <th>4</th>\n",
       "      <td>Minnie</td>\n",
       "      <td>F</td>\n",
       "      <td>1746</td>\n",
       "      <td>1880</td>\n",
       "      <td>0.019188</td>\n",
       "    </tr>\n",
       "    <tr>\n",
       "      <th>...</th>\n",
       "      <th>...</th>\n",
       "      <th>...</th>\n",
       "      <td>...</td>\n",
       "      <td>...</td>\n",
       "      <td>...</td>\n",
       "      <td>...</td>\n",
       "      <td>...</td>\n",
       "    </tr>\n",
       "    <tr>\n",
       "      <th rowspan=\"5\" valign=\"top\">2010</th>\n",
       "      <th rowspan=\"5\" valign=\"top\">M</th>\n",
       "      <th>1690779</th>\n",
       "      <td>Zymaire</td>\n",
       "      <td>M</td>\n",
       "      <td>5</td>\n",
       "      <td>2010</td>\n",
       "      <td>0.000003</td>\n",
       "    </tr>\n",
       "    <tr>\n",
       "      <th>1690780</th>\n",
       "      <td>Zyonne</td>\n",
       "      <td>M</td>\n",
       "      <td>5</td>\n",
       "      <td>2010</td>\n",
       "      <td>0.000003</td>\n",
       "    </tr>\n",
       "    <tr>\n",
       "      <th>1690781</th>\n",
       "      <td>Zyquarius</td>\n",
       "      <td>M</td>\n",
       "      <td>5</td>\n",
       "      <td>2010</td>\n",
       "      <td>0.000003</td>\n",
       "    </tr>\n",
       "    <tr>\n",
       "      <th>1690782</th>\n",
       "      <td>Zyran</td>\n",
       "      <td>M</td>\n",
       "      <td>5</td>\n",
       "      <td>2010</td>\n",
       "      <td>0.000003</td>\n",
       "    </tr>\n",
       "    <tr>\n",
       "      <th>1690783</th>\n",
       "      <td>Zzyzx</td>\n",
       "      <td>M</td>\n",
       "      <td>5</td>\n",
       "      <td>2010</td>\n",
       "      <td>0.000003</td>\n",
       "    </tr>\n",
       "  </tbody>\n",
       "</table>\n",
       "<p>1690784 rows × 5 columns</p>\n",
       "</div>"
      ],
      "text/plain": [
       "                       name sex  births  year      prop\n",
       "year sex                                               \n",
       "1880 F   0             Mary   F    7065  1880  0.077643\n",
       "         1             Anna   F    2604  1880  0.028618\n",
       "         2             Emma   F    2003  1880  0.022013\n",
       "         3        Elizabeth   F    1939  1880  0.021309\n",
       "         4           Minnie   F    1746  1880  0.019188\n",
       "...                     ...  ..     ...   ...       ...\n",
       "2010 M   1690779    Zymaire   M       5  2010  0.000003\n",
       "         1690780     Zyonne   M       5  2010  0.000003\n",
       "         1690781  Zyquarius   M       5  2010  0.000003\n",
       "         1690782      Zyran   M       5  2010  0.000003\n",
       "         1690783      Zzyzx   M       5  2010  0.000003\n",
       "\n",
       "[1690784 rows x 5 columns]"
      ]
     },
     "execution_count": 823,
     "metadata": {},
     "output_type": "execute_result"
    }
   ],
   "source": [
    "# Preview the data\n",
    "names"
   ]
  },
  {
   "cell_type": "markdown",
   "id": "0bc5b6b8-cfc1-4a92-baa7-44c257ecf5cb",
   "metadata": {},
   "source": [
    "Due to the large format of the dataset, perform a sanity check when executing group operations. We need to verify that the `prop` column sums to 1 for all groups. "
   ]
  },
  {
   "cell_type": "code",
   "execution_count": 826,
   "id": "39d028a5-2335-4b21-864f-89c99713a936",
   "metadata": {},
   "outputs": [
    {
     "data": {
      "text/plain": [
       "True"
      ]
     },
     "execution_count": 826,
     "metadata": {},
     "output_type": "execute_result"
    }
   ],
   "source": [
    "# names.groupby(['year', 'sex']).prop.sum()\n",
    "np.allclose(names.groupby(level=['year','sex']).prop.sum(),1)"
   ]
  },
  {
   "cell_type": "markdown",
   "id": "c38b54b9-47fa-4014-9722-90314e0b5fde",
   "metadata": {},
   "source": [
    "Next, extract the top 1000 names for each sex and year by performing another group operation: "
   ]
  },
  {
   "cell_type": "code",
   "execution_count": 829,
   "id": "2d0b6711-f083-43e0-b14b-84f8221af55b",
   "metadata": {},
   "outputs": [
    {
     "data": {
      "text/html": [
       "<div>\n",
       "<style scoped>\n",
       "    .dataframe tbody tr th:only-of-type {\n",
       "        vertical-align: middle;\n",
       "    }\n",
       "\n",
       "    .dataframe tbody tr th {\n",
       "        vertical-align: top;\n",
       "    }\n",
       "\n",
       "    .dataframe thead th {\n",
       "        text-align: right;\n",
       "    }\n",
       "</style>\n",
       "<table border=\"1\" class=\"dataframe\">\n",
       "  <thead>\n",
       "    <tr style=\"text-align: right;\">\n",
       "      <th></th>\n",
       "      <th></th>\n",
       "      <th></th>\n",
       "      <th></th>\n",
       "      <th></th>\n",
       "      <th>name</th>\n",
       "      <th>sex</th>\n",
       "      <th>births</th>\n",
       "      <th>year</th>\n",
       "      <th>prop</th>\n",
       "    </tr>\n",
       "    <tr>\n",
       "      <th>year</th>\n",
       "      <th>sex</th>\n",
       "      <th>year</th>\n",
       "      <th>sex</th>\n",
       "      <th></th>\n",
       "      <th></th>\n",
       "      <th></th>\n",
       "      <th></th>\n",
       "      <th></th>\n",
       "      <th></th>\n",
       "    </tr>\n",
       "  </thead>\n",
       "  <tbody>\n",
       "    <tr>\n",
       "      <th rowspan=\"5\" valign=\"top\">1880</th>\n",
       "      <th rowspan=\"5\" valign=\"top\">F</th>\n",
       "      <th rowspan=\"5\" valign=\"top\">1880</th>\n",
       "      <th rowspan=\"5\" valign=\"top\">F</th>\n",
       "      <th>0</th>\n",
       "      <td>Mary</td>\n",
       "      <td>F</td>\n",
       "      <td>7065</td>\n",
       "      <td>1880</td>\n",
       "      <td>0.077643</td>\n",
       "    </tr>\n",
       "    <tr>\n",
       "      <th>1</th>\n",
       "      <td>Anna</td>\n",
       "      <td>F</td>\n",
       "      <td>2604</td>\n",
       "      <td>1880</td>\n",
       "      <td>0.028618</td>\n",
       "    </tr>\n",
       "    <tr>\n",
       "      <th>2</th>\n",
       "      <td>Emma</td>\n",
       "      <td>F</td>\n",
       "      <td>2003</td>\n",
       "      <td>1880</td>\n",
       "      <td>0.022013</td>\n",
       "    </tr>\n",
       "    <tr>\n",
       "      <th>3</th>\n",
       "      <td>Elizabeth</td>\n",
       "      <td>F</td>\n",
       "      <td>1939</td>\n",
       "      <td>1880</td>\n",
       "      <td>0.021309</td>\n",
       "    </tr>\n",
       "    <tr>\n",
       "      <th>4</th>\n",
       "      <td>Minnie</td>\n",
       "      <td>F</td>\n",
       "      <td>1746</td>\n",
       "      <td>1880</td>\n",
       "      <td>0.019188</td>\n",
       "    </tr>\n",
       "    <tr>\n",
       "      <th>...</th>\n",
       "      <th>...</th>\n",
       "      <th>...</th>\n",
       "      <th>...</th>\n",
       "      <th>...</th>\n",
       "      <td>...</td>\n",
       "      <td>...</td>\n",
       "      <td>...</td>\n",
       "      <td>...</td>\n",
       "      <td>...</td>\n",
       "    </tr>\n",
       "    <tr>\n",
       "      <th rowspan=\"5\" valign=\"top\">2010</th>\n",
       "      <th rowspan=\"5\" valign=\"top\">M</th>\n",
       "      <th rowspan=\"5\" valign=\"top\">2010</th>\n",
       "      <th rowspan=\"5\" valign=\"top\">M</th>\n",
       "      <th>1677642</th>\n",
       "      <td>Jaydan</td>\n",
       "      <td>M</td>\n",
       "      <td>194</td>\n",
       "      <td>2010</td>\n",
       "      <td>0.000102</td>\n",
       "    </tr>\n",
       "    <tr>\n",
       "      <th>1677638</th>\n",
       "      <td>Bailey</td>\n",
       "      <td>M</td>\n",
       "      <td>194</td>\n",
       "      <td>2010</td>\n",
       "      <td>0.000102</td>\n",
       "    </tr>\n",
       "    <tr>\n",
       "      <th>1677640</th>\n",
       "      <td>Destin</td>\n",
       "      <td>M</td>\n",
       "      <td>194</td>\n",
       "      <td>2010</td>\n",
       "      <td>0.000102</td>\n",
       "    </tr>\n",
       "    <tr>\n",
       "      <th>1677639</th>\n",
       "      <td>Camilo</td>\n",
       "      <td>M</td>\n",
       "      <td>194</td>\n",
       "      <td>2010</td>\n",
       "      <td>0.000102</td>\n",
       "    </tr>\n",
       "    <tr>\n",
       "      <th>1677643</th>\n",
       "      <td>Crew</td>\n",
       "      <td>M</td>\n",
       "      <td>193</td>\n",
       "      <td>2010</td>\n",
       "      <td>0.000102</td>\n",
       "    </tr>\n",
       "  </tbody>\n",
       "</table>\n",
       "<p>261877 rows × 5 columns</p>\n",
       "</div>"
      ],
      "text/plain": [
       "                                name sex  births  year      prop\n",
       "year sex year sex                                               \n",
       "1880 F   1880 F   0             Mary   F    7065  1880  0.077643\n",
       "                  1             Anna   F    2604  1880  0.028618\n",
       "                  2             Emma   F    2003  1880  0.022013\n",
       "                  3        Elizabeth   F    1939  1880  0.021309\n",
       "                  4           Minnie   F    1746  1880  0.019188\n",
       "...                              ...  ..     ...   ...       ...\n",
       "2010 M   2010 M   1677642     Jaydan   M     194  2010  0.000102\n",
       "                  1677638     Bailey   M     194  2010  0.000102\n",
       "                  1677640     Destin   M     194  2010  0.000102\n",
       "                  1677639     Camilo   M     194  2010  0.000102\n",
       "                  1677643       Crew   M     193  2010  0.000102\n",
       "\n",
       "[261877 rows x 5 columns]"
      ]
     },
     "execution_count": 829,
     "metadata": {},
     "output_type": "execute_result"
    }
   ],
   "source": [
    "def get_top1000(group):\n",
    "    return group.sort_values('births', ascending=False)[:1000]\n",
    "    \n",
    "grouped = names.groupby(level=['year', 'sex'])\n",
    "top1000 = grouped.apply(get_top1000)\n",
    "#top1000.reset_index(inplace=True, drop=True)\n",
    "# Preview the data \n",
    "top1000"
   ]
  },
  {
   "cell_type": "markdown",
   "id": "18468908-10c9-4538-a62d-ea2ff2bf7455",
   "metadata": {},
   "source": [
    "## Analyzing Naming Trends\n",
    "Prepare our analysis of naming trends by splitting the top 1000 names into assigned genders:"
   ]
  },
  {
   "cell_type": "code",
   "execution_count": 832,
   "id": "2f2eaaca-4ab0-43bc-bfc6-0c6f23c7ee54",
   "metadata": {},
   "outputs": [
    {
     "name": "stdout",
     "output_type": "stream",
     "text": [
      "['year', 'sex', None]\n",
      "Index(['name', 'sex', 'births', 'year', 'prop'], dtype='object')\n"
     ]
    }
   ],
   "source": [
    "print(names.index.names)\n",
    "print(names.columns)\n",
    "boys = top1000[top1000.sex == 'M']\n",
    "girls = top1000[top1000.sex == 'F']"
   ]
  },
  {
   "cell_type": "markdown",
   "id": "d5ef15ea-9e6f-41ca-9fdb-46b46c1447da",
   "metadata": {},
   "source": [
    "A simple time series is plotted with a pivot table of the total number of births by year and names. A bit of effort is needed to implement extra code to perform a bit of data munging. First we need both year and sex as index, so we start by resetting the index if 'year' is already an index:"
   ]
  },
  {
   "cell_type": "code",
   "execution_count": 835,
   "id": "b1526cb5-617a-4721-a5be-06757adfb471",
   "metadata": {},
   "outputs": [],
   "source": [
    "top1000 = top1000.reset_index(drop=True) if 'year' in top1000.index.names else top1000"
   ]
  },
  {
   "cell_type": "markdown",
   "id": "c00a0be9-f6aa-40b5-9894-6677348bd3a0",
   "metadata": {},
   "source": [
    "Next, we create the pivot table with the following requirements:\n",
    "- The births need to be aggregated as the values\n",
    "- Year and sex are declared as the index\n",
    "- Set name as the columns\n",
    "- Declare the aggregate function as sum"
   ]
  },
  {
   "cell_type": "code",
   "execution_count": 838,
   "id": "f4542144-2511-499f-94c3-10a21c2523fa",
   "metadata": {},
   "outputs": [],
   "source": [
    "total_births = top1000.pivot_table(values='births', \n",
    "                                   index=['year'], \n",
    "                                   columns='name', \n",
    "                                   aggfunc='sum')"
   ]
  },
  {
   "cell_type": "markdown",
   "id": "ec7fb6c2-238f-43bd-a2b7-1ced9d4d9803",
   "metadata": {},
   "source": [
    "Display the graph:"
   ]
  },
  {
   "cell_type": "code",
   "execution_count": 841,
   "id": "29868dd7-d7de-4b01-8e56-810fb442c219",
   "metadata": {},
   "outputs": [
    {
     "data": {
      "text/html": [
       "<div>\n",
       "<style scoped>\n",
       "    .dataframe tbody tr th:only-of-type {\n",
       "        vertical-align: middle;\n",
       "    }\n",
       "\n",
       "    .dataframe tbody tr th {\n",
       "        vertical-align: top;\n",
       "    }\n",
       "\n",
       "    .dataframe thead th {\n",
       "        text-align: right;\n",
       "    }\n",
       "</style>\n",
       "<table border=\"1\" class=\"dataframe\">\n",
       "  <thead>\n",
       "    <tr style=\"text-align: right;\">\n",
       "      <th>name</th>\n",
       "      <th>Aaden</th>\n",
       "      <th>Aaliyah</th>\n",
       "      <th>Aarav</th>\n",
       "      <th>Aaron</th>\n",
       "      <th>Aarush</th>\n",
       "      <th>Ab</th>\n",
       "      <th>Abagail</th>\n",
       "      <th>Abb</th>\n",
       "      <th>Abbey</th>\n",
       "      <th>Abbie</th>\n",
       "      <th>...</th>\n",
       "      <th>Zoa</th>\n",
       "      <th>Zoe</th>\n",
       "      <th>Zoey</th>\n",
       "      <th>Zoie</th>\n",
       "      <th>Zola</th>\n",
       "      <th>Zollie</th>\n",
       "      <th>Zona</th>\n",
       "      <th>Zora</th>\n",
       "      <th>Zula</th>\n",
       "      <th>Zuri</th>\n",
       "    </tr>\n",
       "    <tr>\n",
       "      <th>year</th>\n",
       "      <th></th>\n",
       "      <th></th>\n",
       "      <th></th>\n",
       "      <th></th>\n",
       "      <th></th>\n",
       "      <th></th>\n",
       "      <th></th>\n",
       "      <th></th>\n",
       "      <th></th>\n",
       "      <th></th>\n",
       "      <th></th>\n",
       "      <th></th>\n",
       "      <th></th>\n",
       "      <th></th>\n",
       "      <th></th>\n",
       "      <th></th>\n",
       "      <th></th>\n",
       "      <th></th>\n",
       "      <th></th>\n",
       "      <th></th>\n",
       "      <th></th>\n",
       "    </tr>\n",
       "  </thead>\n",
       "  <tbody>\n",
       "    <tr>\n",
       "      <th>1880</th>\n",
       "      <td>NaN</td>\n",
       "      <td>NaN</td>\n",
       "      <td>NaN</td>\n",
       "      <td>102.0</td>\n",
       "      <td>NaN</td>\n",
       "      <td>NaN</td>\n",
       "      <td>NaN</td>\n",
       "      <td>NaN</td>\n",
       "      <td>NaN</td>\n",
       "      <td>71.0</td>\n",
       "      <td>...</td>\n",
       "      <td>8.0</td>\n",
       "      <td>23.0</td>\n",
       "      <td>NaN</td>\n",
       "      <td>NaN</td>\n",
       "      <td>7.0</td>\n",
       "      <td>NaN</td>\n",
       "      <td>8.0</td>\n",
       "      <td>28.0</td>\n",
       "      <td>27.0</td>\n",
       "      <td>NaN</td>\n",
       "    </tr>\n",
       "    <tr>\n",
       "      <th>1881</th>\n",
       "      <td>NaN</td>\n",
       "      <td>NaN</td>\n",
       "      <td>NaN</td>\n",
       "      <td>94.0</td>\n",
       "      <td>NaN</td>\n",
       "      <td>NaN</td>\n",
       "      <td>NaN</td>\n",
       "      <td>NaN</td>\n",
       "      <td>NaN</td>\n",
       "      <td>81.0</td>\n",
       "      <td>...</td>\n",
       "      <td>NaN</td>\n",
       "      <td>22.0</td>\n",
       "      <td>NaN</td>\n",
       "      <td>NaN</td>\n",
       "      <td>10.0</td>\n",
       "      <td>NaN</td>\n",
       "      <td>9.0</td>\n",
       "      <td>21.0</td>\n",
       "      <td>27.0</td>\n",
       "      <td>NaN</td>\n",
       "    </tr>\n",
       "    <tr>\n",
       "      <th>1882</th>\n",
       "      <td>NaN</td>\n",
       "      <td>NaN</td>\n",
       "      <td>NaN</td>\n",
       "      <td>85.0</td>\n",
       "      <td>NaN</td>\n",
       "      <td>NaN</td>\n",
       "      <td>NaN</td>\n",
       "      <td>NaN</td>\n",
       "      <td>NaN</td>\n",
       "      <td>80.0</td>\n",
       "      <td>...</td>\n",
       "      <td>8.0</td>\n",
       "      <td>25.0</td>\n",
       "      <td>NaN</td>\n",
       "      <td>NaN</td>\n",
       "      <td>9.0</td>\n",
       "      <td>NaN</td>\n",
       "      <td>17.0</td>\n",
       "      <td>32.0</td>\n",
       "      <td>21.0</td>\n",
       "      <td>NaN</td>\n",
       "    </tr>\n",
       "    <tr>\n",
       "      <th>1883</th>\n",
       "      <td>NaN</td>\n",
       "      <td>NaN</td>\n",
       "      <td>NaN</td>\n",
       "      <td>105.0</td>\n",
       "      <td>NaN</td>\n",
       "      <td>NaN</td>\n",
       "      <td>NaN</td>\n",
       "      <td>NaN</td>\n",
       "      <td>NaN</td>\n",
       "      <td>79.0</td>\n",
       "      <td>...</td>\n",
       "      <td>5.0</td>\n",
       "      <td>23.0</td>\n",
       "      <td>NaN</td>\n",
       "      <td>NaN</td>\n",
       "      <td>10.0</td>\n",
       "      <td>NaN</td>\n",
       "      <td>11.0</td>\n",
       "      <td>35.0</td>\n",
       "      <td>25.0</td>\n",
       "      <td>NaN</td>\n",
       "    </tr>\n",
       "    <tr>\n",
       "      <th>1884</th>\n",
       "      <td>NaN</td>\n",
       "      <td>NaN</td>\n",
       "      <td>NaN</td>\n",
       "      <td>97.0</td>\n",
       "      <td>NaN</td>\n",
       "      <td>NaN</td>\n",
       "      <td>NaN</td>\n",
       "      <td>NaN</td>\n",
       "      <td>NaN</td>\n",
       "      <td>98.0</td>\n",
       "      <td>...</td>\n",
       "      <td>13.0</td>\n",
       "      <td>31.0</td>\n",
       "      <td>NaN</td>\n",
       "      <td>NaN</td>\n",
       "      <td>14.0</td>\n",
       "      <td>6.0</td>\n",
       "      <td>8.0</td>\n",
       "      <td>58.0</td>\n",
       "      <td>27.0</td>\n",
       "      <td>NaN</td>\n",
       "    </tr>\n",
       "    <tr>\n",
       "      <th>...</th>\n",
       "      <td>...</td>\n",
       "      <td>...</td>\n",
       "      <td>...</td>\n",
       "      <td>...</td>\n",
       "      <td>...</td>\n",
       "      <td>...</td>\n",
       "      <td>...</td>\n",
       "      <td>...</td>\n",
       "      <td>...</td>\n",
       "      <td>...</td>\n",
       "      <td>...</td>\n",
       "      <td>...</td>\n",
       "      <td>...</td>\n",
       "      <td>...</td>\n",
       "      <td>...</td>\n",
       "      <td>...</td>\n",
       "      <td>...</td>\n",
       "      <td>...</td>\n",
       "      <td>...</td>\n",
       "      <td>...</td>\n",
       "      <td>...</td>\n",
       "    </tr>\n",
       "    <tr>\n",
       "      <th>2006</th>\n",
       "      <td>NaN</td>\n",
       "      <td>3737.0</td>\n",
       "      <td>NaN</td>\n",
       "      <td>8279.0</td>\n",
       "      <td>NaN</td>\n",
       "      <td>NaN</td>\n",
       "      <td>297.0</td>\n",
       "      <td>NaN</td>\n",
       "      <td>404.0</td>\n",
       "      <td>440.0</td>\n",
       "      <td>...</td>\n",
       "      <td>NaN</td>\n",
       "      <td>5145.0</td>\n",
       "      <td>2839.0</td>\n",
       "      <td>530.0</td>\n",
       "      <td>NaN</td>\n",
       "      <td>NaN</td>\n",
       "      <td>NaN</td>\n",
       "      <td>NaN</td>\n",
       "      <td>NaN</td>\n",
       "      <td>NaN</td>\n",
       "    </tr>\n",
       "    <tr>\n",
       "      <th>2007</th>\n",
       "      <td>NaN</td>\n",
       "      <td>3941.0</td>\n",
       "      <td>NaN</td>\n",
       "      <td>8914.0</td>\n",
       "      <td>NaN</td>\n",
       "      <td>NaN</td>\n",
       "      <td>313.0</td>\n",
       "      <td>NaN</td>\n",
       "      <td>349.0</td>\n",
       "      <td>468.0</td>\n",
       "      <td>...</td>\n",
       "      <td>NaN</td>\n",
       "      <td>4925.0</td>\n",
       "      <td>3028.0</td>\n",
       "      <td>526.0</td>\n",
       "      <td>NaN</td>\n",
       "      <td>NaN</td>\n",
       "      <td>NaN</td>\n",
       "      <td>NaN</td>\n",
       "      <td>NaN</td>\n",
       "      <td>NaN</td>\n",
       "    </tr>\n",
       "    <tr>\n",
       "      <th>2008</th>\n",
       "      <td>955.0</td>\n",
       "      <td>4028.0</td>\n",
       "      <td>219.0</td>\n",
       "      <td>8511.0</td>\n",
       "      <td>NaN</td>\n",
       "      <td>NaN</td>\n",
       "      <td>317.0</td>\n",
       "      <td>NaN</td>\n",
       "      <td>344.0</td>\n",
       "      <td>400.0</td>\n",
       "      <td>...</td>\n",
       "      <td>NaN</td>\n",
       "      <td>4764.0</td>\n",
       "      <td>3438.0</td>\n",
       "      <td>492.0</td>\n",
       "      <td>NaN</td>\n",
       "      <td>NaN</td>\n",
       "      <td>NaN</td>\n",
       "      <td>NaN</td>\n",
       "      <td>NaN</td>\n",
       "      <td>NaN</td>\n",
       "    </tr>\n",
       "    <tr>\n",
       "      <th>2009</th>\n",
       "      <td>1265.0</td>\n",
       "      <td>4352.0</td>\n",
       "      <td>270.0</td>\n",
       "      <td>7936.0</td>\n",
       "      <td>NaN</td>\n",
       "      <td>NaN</td>\n",
       "      <td>296.0</td>\n",
       "      <td>NaN</td>\n",
       "      <td>307.0</td>\n",
       "      <td>369.0</td>\n",
       "      <td>...</td>\n",
       "      <td>NaN</td>\n",
       "      <td>5120.0</td>\n",
       "      <td>3981.0</td>\n",
       "      <td>496.0</td>\n",
       "      <td>NaN</td>\n",
       "      <td>NaN</td>\n",
       "      <td>NaN</td>\n",
       "      <td>NaN</td>\n",
       "      <td>NaN</td>\n",
       "      <td>NaN</td>\n",
       "    </tr>\n",
       "    <tr>\n",
       "      <th>2010</th>\n",
       "      <td>448.0</td>\n",
       "      <td>4628.0</td>\n",
       "      <td>438.0</td>\n",
       "      <td>7374.0</td>\n",
       "      <td>226.0</td>\n",
       "      <td>NaN</td>\n",
       "      <td>277.0</td>\n",
       "      <td>NaN</td>\n",
       "      <td>295.0</td>\n",
       "      <td>324.0</td>\n",
       "      <td>...</td>\n",
       "      <td>NaN</td>\n",
       "      <td>6200.0</td>\n",
       "      <td>5164.0</td>\n",
       "      <td>504.0</td>\n",
       "      <td>NaN</td>\n",
       "      <td>NaN</td>\n",
       "      <td>NaN</td>\n",
       "      <td>NaN</td>\n",
       "      <td>NaN</td>\n",
       "      <td>258.0</td>\n",
       "    </tr>\n",
       "  </tbody>\n",
       "</table>\n",
       "<p>131 rows × 6861 columns</p>\n",
       "</div>"
      ],
      "text/plain": [
       "name   Aaden  Aaliyah  Aarav   Aaron  Aarush  Ab  Abagail  Abb  Abbey  Abbie  \\\n",
       "year                                                                           \n",
       "1880     NaN      NaN    NaN   102.0     NaN NaN      NaN  NaN    NaN   71.0   \n",
       "1881     NaN      NaN    NaN    94.0     NaN NaN      NaN  NaN    NaN   81.0   \n",
       "1882     NaN      NaN    NaN    85.0     NaN NaN      NaN  NaN    NaN   80.0   \n",
       "1883     NaN      NaN    NaN   105.0     NaN NaN      NaN  NaN    NaN   79.0   \n",
       "1884     NaN      NaN    NaN    97.0     NaN NaN      NaN  NaN    NaN   98.0   \n",
       "...      ...      ...    ...     ...     ...  ..      ...  ...    ...    ...   \n",
       "2006     NaN   3737.0    NaN  8279.0     NaN NaN    297.0  NaN  404.0  440.0   \n",
       "2007     NaN   3941.0    NaN  8914.0     NaN NaN    313.0  NaN  349.0  468.0   \n",
       "2008   955.0   4028.0  219.0  8511.0     NaN NaN    317.0  NaN  344.0  400.0   \n",
       "2009  1265.0   4352.0  270.0  7936.0     NaN NaN    296.0  NaN  307.0  369.0   \n",
       "2010   448.0   4628.0  438.0  7374.0   226.0 NaN    277.0  NaN  295.0  324.0   \n",
       "\n",
       "name  ...   Zoa     Zoe    Zoey   Zoie  Zola  Zollie  Zona  Zora  Zula   Zuri  \n",
       "year  ...                                                                      \n",
       "1880  ...   8.0    23.0     NaN    NaN   7.0     NaN   8.0  28.0  27.0    NaN  \n",
       "1881  ...   NaN    22.0     NaN    NaN  10.0     NaN   9.0  21.0  27.0    NaN  \n",
       "1882  ...   8.0    25.0     NaN    NaN   9.0     NaN  17.0  32.0  21.0    NaN  \n",
       "1883  ...   5.0    23.0     NaN    NaN  10.0     NaN  11.0  35.0  25.0    NaN  \n",
       "1884  ...  13.0    31.0     NaN    NaN  14.0     6.0   8.0  58.0  27.0    NaN  \n",
       "...   ...   ...     ...     ...    ...   ...     ...   ...   ...   ...    ...  \n",
       "2006  ...   NaN  5145.0  2839.0  530.0   NaN     NaN   NaN   NaN   NaN    NaN  \n",
       "2007  ...   NaN  4925.0  3028.0  526.0   NaN     NaN   NaN   NaN   NaN    NaN  \n",
       "2008  ...   NaN  4764.0  3438.0  492.0   NaN     NaN   NaN   NaN   NaN    NaN  \n",
       "2009  ...   NaN  5120.0  3981.0  496.0   NaN     NaN   NaN   NaN   NaN    NaN  \n",
       "2010  ...   NaN  6200.0  5164.0  504.0   NaN     NaN   NaN   NaN   NaN  258.0  \n",
       "\n",
       "[131 rows x 6861 columns]"
      ]
     },
     "execution_count": 841,
     "metadata": {},
     "output_type": "execute_result"
    }
   ],
   "source": [
    "total_births"
   ]
  },
  {
   "cell_type": "markdown",
   "id": "94070c83-1e05-4f2f-9c77-156703d31d85",
   "metadata": {},
   "source": [
    "Print a concise summary of the dataframe. Make sure to include information on the index, column, and plot the data for a handful of names."
   ]
  },
  {
   "cell_type": "code",
   "execution_count": 844,
   "id": "8f325f63-3b69-46bd-98ca-3bc0545bbcd5",
   "metadata": {},
   "outputs": [
    {
     "name": "stdout",
     "output_type": "stream",
     "text": [
      "<class 'pandas.core.frame.DataFrame'>\n",
      "Index: 131 entries, 1880 to 2010\n",
      "Columns: 6861 entries, Aaden to Zuri\n",
      "dtypes: float64(6861)\n",
      "memory usage: 6.9 MB\n"
     ]
    }
   ],
   "source": [
    "total_births.info()"
   ]
  },
  {
   "cell_type": "code",
   "execution_count": 846,
   "id": "4f161898-5bb7-4454-94f6-bd2144b540e2",
   "metadata": {},
   "outputs": [],
   "source": [
    "subset = total_births[['John', 'Harry', 'Mary', 'Marilyn']]"
   ]
  },
  {
   "cell_type": "markdown",
   "id": "088efb64-8242-481f-b6ef-acd97530c588",
   "metadata": {},
   "source": [
    "Preview the data:"
   ]
  },
  {
   "cell_type": "code",
   "execution_count": 849,
   "id": "813d3b87-e9fa-4787-b437-1cb8ff92b609",
   "metadata": {},
   "outputs": [
    {
     "data": {
      "text/plain": [
       "array([<Axes: xlabel='year'>, <Axes: xlabel='year'>,\n",
       "       <Axes: xlabel='year'>, <Axes: xlabel='year'>], dtype=object)"
      ]
     },
     "execution_count": 849,
     "metadata": {},
     "output_type": "execute_result"
    },
    {
     "data": {
      "image/png": "[encoded data removed]",
      "text/plain": [
       "<Figure size 1200x1000 with 4 Axes>"
      ]
     },
     "metadata": {},
     "output_type": "display_data"
    }
   ],
   "source": [
    "subset.plot(subplots=True, \n",
    "            figsize=(12, 10), \n",
    "            grid=False, \n",
    "            title='Number of births per year')"
   ]
  },
  {
   "cell_type": "markdown",
   "id": "e46d3002-0f23-4914-9881-142989f921e7",
   "metadata": {},
   "source": [
    "## Measuring the increase in naming diversity:\n",
    "We notice in the plots that there is a severe drop off on the number of names. Let's explore the hypthesis that fewer parents were choosing common names for their children. For instance, let's analyze the name Allison:"
   ]
  },
  {
   "cell_type": "code",
   "execution_count": 852,
   "id": "428a97b0-fcdf-4267-a36c-3e6573bbb6a2",
   "metadata": {},
   "outputs": [],
   "source": [
    "subseta = total_births[['Alison']]"
   ]
  },
  {
   "cell_type": "code",
   "execution_count": 854,
   "id": "63d5b216-9336-49ec-8a41-e64842c9d602",
   "metadata": {},
   "outputs": [
    {
     "data": {
      "text/plain": [
       "<Axes: title={'center': 'Decrease of Popularity of the Name: Alison'}, xlabel='year'>"
      ]
     },
     "execution_count": 854,
     "metadata": {},
     "output_type": "execute_result"
    },
    {
     "data": {
      "image/png": "[encoded data removed]",
      "text/plain": [
       "<Figure size 640x480 with 1 Axes>"
      ]
     },
     "metadata": {},
     "output_type": "display_data"
    }
   ],
   "source": [
    "subseta.plot(title='Decrease of Popularity of the Name: Alison')"
   ]
  },
  {
   "cell_type": "markdown",
   "id": "e0e67d0a-d3b1-4ee9-b993-1a89bc3ea71a",
   "metadata": {},
   "source": [
    "To measure the increase in naming diversity create a pivot table where: \n",
    "- The values are declared as the variable prop.\n",
    "- The index is set to year.\n",
    "- Declare the columns as sex.\n",
    "- The aggregate function is declared as sum."
   ]
  },
  {
   "cell_type": "code",
   "execution_count": 857,
   "id": "fa157045-9993-41eb-9ef7-2ef6c6b422bc",
   "metadata": {},
   "outputs": [
    {
     "data": {
      "text/plain": [
       "<Axes: title={'center': 'Sum of table1000.prop by year and sex'}, xlabel='year'>"
      ]
     },
     "execution_count": 857,
     "metadata": {},
     "output_type": "execute_result"
    },
    {
     "data": {
      "image/png": "[encoded data removed]",
      "text/plain": [
       "<Figure size 1000x600 with 1 Axes>"
      ]
     },
     "metadata": {},
     "output_type": "display_data"
    }
   ],
   "source": [
    "table = top1000.pivot_table(values='prop', \n",
    "                            index='year', \n",
    "                            columns='sex', \n",
    "                            aggfunc='sum')\n",
    "table.plot(title='Sum of table1000.prop by year and sex', \n",
    "           figsize=(10, 6), \n",
    "           yticks=np.linspace(0, 1.2, 13), \n",
    "           xticks=range(1880, 2020,10))"
   ]
  },
  {
   "cell_type": "markdown",
   "id": "4dc480e2-197a-4031-8cd5-44a9e347a23e",
   "metadata": {},
   "source": [
    "Declare a new dataframe for the number of distinct names (in popularity of highest to lowest) in the top 50 births per year. "
   ]
  },
  {
   "cell_type": "code",
   "execution_count": 860,
   "id": "57479efc-f875-46d5-ad2f-eaf4c0ee8d60",
   "metadata": {},
   "outputs": [],
   "source": [
    "df = boys[boys.year == 2010]"
   ]
  },
  {
   "cell_type": "code",
   "execution_count": 862,
   "id": "f613ea0d-124d-4228-9d5c-11ba3055874d",
   "metadata": {},
   "outputs": [
    {
     "data": {
      "text/html": [
       "<div>\n",
       "<style scoped>\n",
       "    .dataframe tbody tr th:only-of-type {\n",
       "        vertical-align: middle;\n",
       "    }\n",
       "\n",
       "    .dataframe tbody tr th {\n",
       "        vertical-align: top;\n",
       "    }\n",
       "\n",
       "    .dataframe thead th {\n",
       "        text-align: right;\n",
       "    }\n",
       "</style>\n",
       "<table border=\"1\" class=\"dataframe\">\n",
       "  <thead>\n",
       "    <tr style=\"text-align: right;\">\n",
       "      <th></th>\n",
       "      <th></th>\n",
       "      <th></th>\n",
       "      <th></th>\n",
       "      <th></th>\n",
       "      <th>name</th>\n",
       "      <th>sex</th>\n",
       "      <th>births</th>\n",
       "      <th>year</th>\n",
       "      <th>prop</th>\n",
       "    </tr>\n",
       "    <tr>\n",
       "      <th>year</th>\n",
       "      <th>sex</th>\n",
       "      <th>year</th>\n",
       "      <th>sex</th>\n",
       "      <th></th>\n",
       "      <th></th>\n",
       "      <th></th>\n",
       "      <th></th>\n",
       "      <th></th>\n",
       "      <th></th>\n",
       "    </tr>\n",
       "  </thead>\n",
       "  <tbody>\n",
       "    <tr>\n",
       "      <th rowspan=\"11\" valign=\"top\">2010</th>\n",
       "      <th rowspan=\"11\" valign=\"top\">M</th>\n",
       "      <th rowspan=\"11\" valign=\"top\">2010</th>\n",
       "      <th rowspan=\"11\" valign=\"top\">M</th>\n",
       "      <th>1676644</th>\n",
       "      <td>Jacob</td>\n",
       "      <td>M</td>\n",
       "      <td>21875</td>\n",
       "      <td>2010</td>\n",
       "      <td>0.011523</td>\n",
       "    </tr>\n",
       "    <tr>\n",
       "      <th>1676645</th>\n",
       "      <td>Ethan</td>\n",
       "      <td>M</td>\n",
       "      <td>17866</td>\n",
       "      <td>2010</td>\n",
       "      <td>0.009411</td>\n",
       "    </tr>\n",
       "    <tr>\n",
       "      <th>1676646</th>\n",
       "      <td>Michael</td>\n",
       "      <td>M</td>\n",
       "      <td>17133</td>\n",
       "      <td>2010</td>\n",
       "      <td>0.009025</td>\n",
       "    </tr>\n",
       "    <tr>\n",
       "      <th>1676647</th>\n",
       "      <td>Jayden</td>\n",
       "      <td>M</td>\n",
       "      <td>17030</td>\n",
       "      <td>2010</td>\n",
       "      <td>0.008971</td>\n",
       "    </tr>\n",
       "    <tr>\n",
       "      <th>1676648</th>\n",
       "      <td>William</td>\n",
       "      <td>M</td>\n",
       "      <td>16870</td>\n",
       "      <td>2010</td>\n",
       "      <td>0.008887</td>\n",
       "    </tr>\n",
       "    <tr>\n",
       "      <th>...</th>\n",
       "      <td>...</td>\n",
       "      <td>...</td>\n",
       "      <td>...</td>\n",
       "      <td>...</td>\n",
       "      <td>...</td>\n",
       "    </tr>\n",
       "    <tr>\n",
       "      <th>1677642</th>\n",
       "      <td>Jaydan</td>\n",
       "      <td>M</td>\n",
       "      <td>194</td>\n",
       "      <td>2010</td>\n",
       "      <td>0.000102</td>\n",
       "    </tr>\n",
       "    <tr>\n",
       "      <th>1677638</th>\n",
       "      <td>Bailey</td>\n",
       "      <td>M</td>\n",
       "      <td>194</td>\n",
       "      <td>2010</td>\n",
       "      <td>0.000102</td>\n",
       "    </tr>\n",
       "    <tr>\n",
       "      <th>1677640</th>\n",
       "      <td>Destin</td>\n",
       "      <td>M</td>\n",
       "      <td>194</td>\n",
       "      <td>2010</td>\n",
       "      <td>0.000102</td>\n",
       "    </tr>\n",
       "    <tr>\n",
       "      <th>1677639</th>\n",
       "      <td>Camilo</td>\n",
       "      <td>M</td>\n",
       "      <td>194</td>\n",
       "      <td>2010</td>\n",
       "      <td>0.000102</td>\n",
       "    </tr>\n",
       "    <tr>\n",
       "      <th>1677643</th>\n",
       "      <td>Crew</td>\n",
       "      <td>M</td>\n",
       "      <td>193</td>\n",
       "      <td>2010</td>\n",
       "      <td>0.000102</td>\n",
       "    </tr>\n",
       "  </tbody>\n",
       "</table>\n",
       "<p>1000 rows × 5 columns</p>\n",
       "</div>"
      ],
      "text/plain": [
       "                              name sex  births  year      prop\n",
       "year sex year sex                                             \n",
       "2010 M   2010 M   1676644    Jacob   M   21875  2010  0.011523\n",
       "                  1676645    Ethan   M   17866  2010  0.009411\n",
       "                  1676646  Michael   M   17133  2010  0.009025\n",
       "                  1676647   Jayden   M   17030  2010  0.008971\n",
       "                  1676648  William   M   16870  2010  0.008887\n",
       "...                            ...  ..     ...   ...       ...\n",
       "                  1677642   Jaydan   M     194  2010  0.000102\n",
       "                  1677638   Bailey   M     194  2010  0.000102\n",
       "                  1677640   Destin   M     194  2010  0.000102\n",
       "                  1677639   Camilo   M     194  2010  0.000102\n",
       "                  1677643     Crew   M     193  2010  0.000102\n",
       "\n",
       "[1000 rows x 5 columns]"
      ]
     },
     "execution_count": 862,
     "metadata": {},
     "output_type": "execute_result"
    }
   ],
   "source": [
    "# Preview the data\n",
    "df"
   ]
  },
  {
   "cell_type": "markdown",
   "id": "cff6501e-d881-4b7f-ba3a-947eefd841c9",
   "metadata": {},
   "source": [
    "Sort in descending order by coding a vectorized NumPy. We do this by taking the cumulative sum of prop and eventually setting the .searchsorted() function to 0.5: "
   ]
  },
  {
   "cell_type": "code",
   "execution_count": 865,
   "id": "d09c6cc9-b64c-43cf-841c-2dbaccb7536d",
   "metadata": {},
   "outputs": [],
   "source": [
    "prop_cumsum = df.sort_values(by='prop', ascending=False).prop.cumsum()"
   ]
  },
  {
   "cell_type": "code",
   "execution_count": 867,
   "id": "bdd56615-00ba-4e64-9acb-453e3392b2ac",
   "metadata": {},
   "outputs": [
    {
     "data": {
      "text/plain": [
       "year  sex  year  sex         \n",
       "2010  M    2010  M    1676644    0.011523\n",
       "                      1676645    0.020934\n",
       "                      1676646    0.029959\n",
       "                      1676647    0.038930\n",
       "                      1676648    0.047817\n",
       "                      1676649    0.056579\n",
       "                      1676650    0.065155\n",
       "                      1676651    0.073414\n",
       "                      1676652    0.081528\n",
       "                      1676653    0.089621\n",
       "Name: prop, dtype: float64"
      ]
     },
     "execution_count": 867,
     "metadata": {},
     "output_type": "execute_result"
    }
   ],
   "source": [
    "# Preview the data\n",
    "prop_cumsum[:10]"
   ]
  },
  {
   "cell_type": "code",
   "execution_count": 869,
   "id": "f154b806-8a74-47c6-a2b5-de7062a668ad",
   "metadata": {},
   "outputs": [
    {
     "data": {
      "text/plain": [
       "116"
      ]
     },
     "execution_count": 869,
     "metadata": {},
     "output_type": "execute_result"
    }
   ],
   "source": [
    "prop_cumsum.values.searchsorted(0.5)"
   ]
  },
  {
   "cell_type": "markdown",
   "id": "00990704-fbe8-44c3-b98b-744fccf39845",
   "metadata": {},
   "source": [
    "Compare this median point to 1990 where it was much smalller:"
   ]
  },
  {
   "cell_type": "markdown",
   "id": "d83e7e35-fe4b-4a13-b34d-6be85195e599",
   "metadata": {},
   "source": [
    "Compare this median point to 1990 to when the median point was much smalller: "
   ]
  },
  {
   "cell_type": "code",
   "execution_count": 873,
   "id": "05391ee4-476c-4b2a-8cf1-b9a4b558f272",
   "metadata": {},
   "outputs": [],
   "source": [
    "df = boys[boys.year == 1990]"
   ]
  },
  {
   "cell_type": "code",
   "execution_count": 874,
   "id": "87cd4a4e-e243-43d7-9757-f2cadc23af39",
   "metadata": {},
   "outputs": [],
   "source": [
    "in1990 = df.sort_values(by='prop', ascending=False).prop.cumsum()"
   ]
  },
  {
   "cell_type": "code",
   "execution_count": 877,
   "id": "8042fedf-afec-44f6-bd7a-87b0e691ea90",
   "metadata": {},
   "outputs": [
    {
     "data": {
      "text/plain": [
       "45"
      ]
     },
     "execution_count": 877,
     "metadata": {},
     "output_type": "execute_result"
    }
   ],
   "source": [
    "in1990.values.searchsorted(0.5) + 1"
   ]
  },
  {
   "cell_type": "markdown",
   "id": "22bef909-9f32-4e5c-ba3a-00726d4d7431",
   "metadata": {},
   "source": [
    "Make a function to return the count for each group. The operation should take each (year/sex) combo by fields and perform the calculation. The new dataframe (diversity) now has two time series (one for each sex indexed by year): "
   ]
  },
  {
   "cell_type": "code",
   "execution_count": 880,
   "id": "3b4b038c-4f15-43cd-8e5f-636317bac0c2",
   "metadata": {},
   "outputs": [],
   "source": [
    "def get_quantile_count(group, q=0.5):\n",
    "    group = group.sort_values(by='prop', ascending=False)\n",
    "    return group.prop.cumsum().values.searchsorted(q) + 1\n",
    "diversity = top1000.groupby(['year', 'sex']).apply(get_quantile_count, include_groups=False)\n",
    "diversity = diversity.unstack('sex')"
   ]
  },
  {
   "cell_type": "code",
   "execution_count": 882,
   "id": "e597ae2a-9bf3-4622-ab07-eb6a097fdfa3",
   "metadata": {},
   "outputs": [
    {
     "data": {
      "text/html": [
       "<div>\n",
       "<style scoped>\n",
       "    .dataframe tbody tr th:only-of-type {\n",
       "        vertical-align: middle;\n",
       "    }\n",
       "\n",
       "    .dataframe tbody tr th {\n",
       "        vertical-align: top;\n",
       "    }\n",
       "\n",
       "    .dataframe thead th {\n",
       "        text-align: right;\n",
       "    }\n",
       "</style>\n",
       "<table border=\"1\" class=\"dataframe\">\n",
       "  <thead>\n",
       "    <tr style=\"text-align: right;\">\n",
       "      <th>sex</th>\n",
       "      <th>F</th>\n",
       "      <th>M</th>\n",
       "    </tr>\n",
       "    <tr>\n",
       "      <th>year</th>\n",
       "      <th></th>\n",
       "      <th></th>\n",
       "    </tr>\n",
       "  </thead>\n",
       "  <tbody>\n",
       "    <tr>\n",
       "      <th>1880</th>\n",
       "      <td>38</td>\n",
       "      <td>14</td>\n",
       "    </tr>\n",
       "    <tr>\n",
       "      <th>1881</th>\n",
       "      <td>38</td>\n",
       "      <td>14</td>\n",
       "    </tr>\n",
       "    <tr>\n",
       "      <th>1882</th>\n",
       "      <td>38</td>\n",
       "      <td>15</td>\n",
       "    </tr>\n",
       "    <tr>\n",
       "      <th>1883</th>\n",
       "      <td>39</td>\n",
       "      <td>15</td>\n",
       "    </tr>\n",
       "    <tr>\n",
       "      <th>1884</th>\n",
       "      <td>39</td>\n",
       "      <td>16</td>\n",
       "    </tr>\n",
       "    <tr>\n",
       "      <th>...</th>\n",
       "      <td>...</td>\n",
       "      <td>...</td>\n",
       "    </tr>\n",
       "    <tr>\n",
       "      <th>2006</th>\n",
       "      <td>209</td>\n",
       "      <td>99</td>\n",
       "    </tr>\n",
       "    <tr>\n",
       "      <th>2007</th>\n",
       "      <td>223</td>\n",
       "      <td>103</td>\n",
       "    </tr>\n",
       "    <tr>\n",
       "      <th>2008</th>\n",
       "      <td>234</td>\n",
       "      <td>109</td>\n",
       "    </tr>\n",
       "    <tr>\n",
       "      <th>2009</th>\n",
       "      <td>241</td>\n",
       "      <td>114</td>\n",
       "    </tr>\n",
       "    <tr>\n",
       "      <th>2010</th>\n",
       "      <td>246</td>\n",
       "      <td>117</td>\n",
       "    </tr>\n",
       "  </tbody>\n",
       "</table>\n",
       "<p>131 rows × 2 columns</p>\n",
       "</div>"
      ],
      "text/plain": [
       "sex     F    M\n",
       "year          \n",
       "1880   38   14\n",
       "1881   38   14\n",
       "1882   38   15\n",
       "1883   39   15\n",
       "1884   39   16\n",
       "...   ...  ...\n",
       "2006  209   99\n",
       "2007  223  103\n",
       "2008  234  109\n",
       "2009  241  114\n",
       "2010  246  117\n",
       "\n",
       "[131 rows x 2 columns]"
      ]
     },
     "execution_count": 882,
     "metadata": {},
     "output_type": "execute_result"
    }
   ],
   "source": [
    "# Preview the data\n",
    "diversity"
   ]
  },
  {
   "cell_type": "code",
   "execution_count": 883,
   "id": "0c5808f0-7e76-4647-ac1d-80f272ed3bb7",
   "metadata": {},
   "outputs": [
    {
     "data": {
      "text/plain": [
       "<Axes: title={'center': 'Number of popular names in top 50%'}, xlabel='year'>"
      ]
     },
     "execution_count": 883,
     "metadata": {},
     "output_type": "execute_result"
    },
    {
     "data": {
      "image/png": "[encoded data removed]",
      "text/plain": [
       "<Figure size 640x480 with 1 Axes>"
      ]
     },
     "metadata": {},
     "output_type": "display_data"
    }
   ],
   "source": [
    "diversity.plot(title=\"Number of popular names in top 50%\")"
   ]
  },
  {
   "cell_type": "markdown",
   "id": "685e6ab8-2457-4dc1-939a-979688b1d14c",
   "metadata": {},
   "source": [
    "## Analyzing the \"Last-Letter\"\n",
    "As we in the previous graph, girls' names have always exhibited more diversity than boys'. Overall, we see that girls names became more diverse over time. Next let's analyze what is causing the diversity in names by exploring the \"last-letter\" revolution.\n",
    "\n",
    "Start the analysis of the \"last letter\" by aggregating all births in the FULL dataset by year, sex, and final letter. Next we will extract last letter from name column:"
   ]
  },
  {
   "cell_type": "code",
   "execution_count": 887,
   "id": "bb595d54-fd7e-4ad6-9ff0-a58e4cf1e463",
   "metadata": {},
   "outputs": [],
   "source": [
    "get_last_letter = lambda x: x[-1]\n",
    "last_letters = names.name.map(get_last_letter)\n",
    "last_letters.name = 'last_letter'"
   ]
  },
  {
   "cell_type": "markdown",
   "id": "d43727f4-42fc-4d41-ab35-5fbcaaf227e6",
   "metadata": {},
   "source": [
    "First, ensure we have a clean dataframe with last_letters: "
   ]
  },
  {
   "cell_type": "code",
   "execution_count": 889,
   "id": "fababe37-e583-4c77-b072-e7c99f2bb39f",
   "metadata": {},
   "outputs": [],
   "source": [
    "names = names.assign(last_letter=last_letters)"
   ]
  },
  {
   "cell_type": "markdown",
   "id": "18c9dadc-f802-43f0-a186-36d6c521d4c6",
   "metadata": {},
   "source": [
    "Make sure to completely reset the index to avoid any conflicts"
   ]
  },
  {
   "cell_type": "code",
   "execution_count": 893,
   "id": "b6c8307d-c597-4292-91d3-a6f249757fea",
   "metadata": {},
   "outputs": [],
   "source": [
    "names_reset = names.reset_index(drop=True)"
   ]
  },
  {
   "cell_type": "markdown",
   "id": "a1921bd2-b186-473e-8c0b-e19fa12265b4",
   "metadata": {},
   "source": [
    "Create pivot table with clear index and column structure: "
   ]
  },
  {
   "cell_type": "code",
   "execution_count": 896,
   "id": "7015143d-2d45-4dce-93b1-65b5ad5e86e7",
   "metadata": {},
   "outputs": [],
   "source": [
    "table = names_reset.pivot_table(\n",
    "    values='births',\n",
    "    index='last_letter',\n",
    "    columns=['year', 'sex'],\n",
    "    aggfunc='sum'\n",
    ")"
   ]
  },
  {
   "cell_type": "markdown",
   "id": "6919ad8c-0639-4fc2-8b1f-9bb0cd00ce9f",
   "metadata": {},
   "source": [
    "Randomly sample 3 years and print a few rows of data:"
   ]
  },
  {
   "cell_type": "code",
   "execution_count": 899,
   "id": "23382dad-031f-4cf0-8384-e3edb17874f9",
   "metadata": {},
   "outputs": [],
   "source": [
    "subtable = table.reindex(columns=[1910, 1960, 2010], level='year')"
   ]
  },
  {
   "cell_type": "code",
   "execution_count": 900,
   "id": "e2848bcf-fb82-46d2-92e1-2c62b317f7f1",
   "metadata": {},
   "outputs": [
    {
     "data": {
      "text/html": [
       "<div>\n",
       "<style scoped>\n",
       "    .dataframe tbody tr th:only-of-type {\n",
       "        vertical-align: middle;\n",
       "    }\n",
       "\n",
       "    .dataframe tbody tr th {\n",
       "        vertical-align: top;\n",
       "    }\n",
       "\n",
       "    .dataframe thead tr th {\n",
       "        text-align: left;\n",
       "    }\n",
       "\n",
       "    .dataframe thead tr:last-of-type th {\n",
       "        text-align: right;\n",
       "    }\n",
       "</style>\n",
       "<table border=\"1\" class=\"dataframe\">\n",
       "  <thead>\n",
       "    <tr>\n",
       "      <th>year</th>\n",
       "      <th colspan=\"2\" halign=\"left\">1910</th>\n",
       "      <th colspan=\"2\" halign=\"left\">1960</th>\n",
       "      <th colspan=\"2\" halign=\"left\">2010</th>\n",
       "    </tr>\n",
       "    <tr>\n",
       "      <th>sex</th>\n",
       "      <th>F</th>\n",
       "      <th>M</th>\n",
       "      <th>F</th>\n",
       "      <th>M</th>\n",
       "      <th>F</th>\n",
       "      <th>M</th>\n",
       "    </tr>\n",
       "    <tr>\n",
       "      <th>last_letter</th>\n",
       "      <th></th>\n",
       "      <th></th>\n",
       "      <th></th>\n",
       "      <th></th>\n",
       "      <th></th>\n",
       "      <th></th>\n",
       "    </tr>\n",
       "  </thead>\n",
       "  <tbody>\n",
       "    <tr>\n",
       "      <th>a</th>\n",
       "      <td>108376.0</td>\n",
       "      <td>977.0</td>\n",
       "      <td>691247.0</td>\n",
       "      <td>5204.0</td>\n",
       "      <td>670605.0</td>\n",
       "      <td>28438.0</td>\n",
       "    </tr>\n",
       "    <tr>\n",
       "      <th>b</th>\n",
       "      <td>NaN</td>\n",
       "      <td>411.0</td>\n",
       "      <td>694.0</td>\n",
       "      <td>3912.0</td>\n",
       "      <td>450.0</td>\n",
       "      <td>38859.0</td>\n",
       "    </tr>\n",
       "    <tr>\n",
       "      <th>c</th>\n",
       "      <td>5.0</td>\n",
       "      <td>482.0</td>\n",
       "      <td>49.0</td>\n",
       "      <td>15476.0</td>\n",
       "      <td>946.0</td>\n",
       "      <td>23125.0</td>\n",
       "    </tr>\n",
       "    <tr>\n",
       "      <th>d</th>\n",
       "      <td>6750.0</td>\n",
       "      <td>22111.0</td>\n",
       "      <td>3729.0</td>\n",
       "      <td>262112.0</td>\n",
       "      <td>2607.0</td>\n",
       "      <td>44398.0</td>\n",
       "    </tr>\n",
       "    <tr>\n",
       "      <th>e</th>\n",
       "      <td>133569.0</td>\n",
       "      <td>28655.0</td>\n",
       "      <td>435013.0</td>\n",
       "      <td>178823.0</td>\n",
       "      <td>313833.0</td>\n",
       "      <td>129012.0</td>\n",
       "    </tr>\n",
       "  </tbody>\n",
       "</table>\n",
       "</div>"
      ],
      "text/plain": [
       "year             1910               1960                2010          \n",
       "sex                 F        M         F         M         F         M\n",
       "last_letter                                                           \n",
       "a            108376.0    977.0  691247.0    5204.0  670605.0   28438.0\n",
       "b                 NaN    411.0     694.0    3912.0     450.0   38859.0\n",
       "c                 5.0    482.0      49.0   15476.0     946.0   23125.0\n",
       "d              6750.0  22111.0    3729.0  262112.0    2607.0   44398.0\n",
       "e            133569.0  28655.0  435013.0  178823.0  313833.0  129012.0"
      ]
     },
     "execution_count": 900,
     "metadata": {},
     "output_type": "execute_result"
    }
   ],
   "source": [
    "subtable.head()"
   ]
  },
  {
   "cell_type": "markdown",
   "id": "2aba1180-ac45-4996-8b5b-a1d14d216a7e",
   "metadata": {},
   "source": [
    "Create a new table by normalizing the table by total births to get the proportion of total births for each sex for each ending letter: "
   ]
  },
  {
   "cell_type": "code",
   "execution_count": 904,
   "id": "5da92baa-4269-4f36-bbe8-efa90e6b3150",
   "metadata": {},
   "outputs": [
    {
     "data": {
      "text/plain": [
       "year  sex\n",
       "1910  F       396416.0\n",
       "      M       194198.0\n",
       "1960  F      2022062.0\n",
       "      M      2132588.0\n",
       "2010  F      1759010.0\n",
       "      M      1898382.0\n",
       "dtype: float64"
      ]
     },
     "execution_count": 904,
     "metadata": {},
     "output_type": "execute_result"
    }
   ],
   "source": [
    "subtable.sum()"
   ]
  },
  {
   "cell_type": "code",
   "execution_count": 906,
   "id": "78008f42-45d8-41cf-ab5c-6a43ec4b0cea",
   "metadata": {},
   "outputs": [],
   "source": [
    "letter_prop = subtable / subtable.sum()"
   ]
  },
  {
   "cell_type": "code",
   "execution_count": 908,
   "id": "2c2c760c-15b9-42b3-bff0-4e37c29617c8",
   "metadata": {},
   "outputs": [
    {
     "data": {
      "text/html": [
       "<div>\n",
       "<style scoped>\n",
       "    .dataframe tbody tr th:only-of-type {\n",
       "        vertical-align: middle;\n",
       "    }\n",
       "\n",
       "    .dataframe tbody tr th {\n",
       "        vertical-align: top;\n",
       "    }\n",
       "\n",
       "    .dataframe thead tr th {\n",
       "        text-align: left;\n",
       "    }\n",
       "\n",
       "    .dataframe thead tr:last-of-type th {\n",
       "        text-align: right;\n",
       "    }\n",
       "</style>\n",
       "<table border=\"1\" class=\"dataframe\">\n",
       "  <thead>\n",
       "    <tr>\n",
       "      <th>year</th>\n",
       "      <th colspan=\"2\" halign=\"left\">1910</th>\n",
       "      <th colspan=\"2\" halign=\"left\">1960</th>\n",
       "      <th colspan=\"2\" halign=\"left\">2010</th>\n",
       "    </tr>\n",
       "    <tr>\n",
       "      <th>sex</th>\n",
       "      <th>F</th>\n",
       "      <th>M</th>\n",
       "      <th>F</th>\n",
       "      <th>M</th>\n",
       "      <th>F</th>\n",
       "      <th>M</th>\n",
       "    </tr>\n",
       "    <tr>\n",
       "      <th>last_letter</th>\n",
       "      <th></th>\n",
       "      <th></th>\n",
       "      <th></th>\n",
       "      <th></th>\n",
       "      <th></th>\n",
       "      <th></th>\n",
       "    </tr>\n",
       "  </thead>\n",
       "  <tbody>\n",
       "    <tr>\n",
       "      <th>a</th>\n",
       "      <td>0.273390</td>\n",
       "      <td>0.005031</td>\n",
       "      <td>0.341853</td>\n",
       "      <td>0.002440</td>\n",
       "      <td>0.381240</td>\n",
       "      <td>0.014980</td>\n",
       "    </tr>\n",
       "    <tr>\n",
       "      <th>b</th>\n",
       "      <td>NaN</td>\n",
       "      <td>0.002116</td>\n",
       "      <td>0.000343</td>\n",
       "      <td>0.001834</td>\n",
       "      <td>0.000256</td>\n",
       "      <td>0.020470</td>\n",
       "    </tr>\n",
       "    <tr>\n",
       "      <th>c</th>\n",
       "      <td>0.000013</td>\n",
       "      <td>0.002482</td>\n",
       "      <td>0.000024</td>\n",
       "      <td>0.007257</td>\n",
       "      <td>0.000538</td>\n",
       "      <td>0.012181</td>\n",
       "    </tr>\n",
       "    <tr>\n",
       "      <th>d</th>\n",
       "      <td>0.017028</td>\n",
       "      <td>0.113858</td>\n",
       "      <td>0.001844</td>\n",
       "      <td>0.122908</td>\n",
       "      <td>0.001482</td>\n",
       "      <td>0.023387</td>\n",
       "    </tr>\n",
       "    <tr>\n",
       "      <th>e</th>\n",
       "      <td>0.336941</td>\n",
       "      <td>0.147556</td>\n",
       "      <td>0.215133</td>\n",
       "      <td>0.083853</td>\n",
       "      <td>0.178415</td>\n",
       "      <td>0.067959</td>\n",
       "    </tr>\n",
       "    <tr>\n",
       "      <th>f</th>\n",
       "      <td>NaN</td>\n",
       "      <td>0.000783</td>\n",
       "      <td>0.000010</td>\n",
       "      <td>0.004325</td>\n",
       "      <td>0.000055</td>\n",
       "      <td>0.001188</td>\n",
       "    </tr>\n",
       "    <tr>\n",
       "      <th>g</th>\n",
       "      <td>0.000144</td>\n",
       "      <td>0.002250</td>\n",
       "      <td>0.000157</td>\n",
       "      <td>0.009488</td>\n",
       "      <td>0.000374</td>\n",
       "      <td>0.001404</td>\n",
       "    </tr>\n",
       "    <tr>\n",
       "      <th>h</th>\n",
       "      <td>0.051529</td>\n",
       "      <td>0.045562</td>\n",
       "      <td>0.036224</td>\n",
       "      <td>0.037907</td>\n",
       "      <td>0.075852</td>\n",
       "      <td>0.051670</td>\n",
       "    </tr>\n",
       "    <tr>\n",
       "      <th>i</th>\n",
       "      <td>0.001526</td>\n",
       "      <td>0.000844</td>\n",
       "      <td>0.039965</td>\n",
       "      <td>0.000603</td>\n",
       "      <td>0.031734</td>\n",
       "      <td>0.022628</td>\n",
       "    </tr>\n",
       "    <tr>\n",
       "      <th>j</th>\n",
       "      <td>NaN</td>\n",
       "      <td>NaN</td>\n",
       "      <td>NaN</td>\n",
       "      <td>NaN</td>\n",
       "      <td>0.000090</td>\n",
       "      <td>0.000769</td>\n",
       "    </tr>\n",
       "    <tr>\n",
       "      <th>k</th>\n",
       "      <td>0.000121</td>\n",
       "      <td>0.036581</td>\n",
       "      <td>0.000156</td>\n",
       "      <td>0.049384</td>\n",
       "      <td>0.000356</td>\n",
       "      <td>0.018541</td>\n",
       "    </tr>\n",
       "    <tr>\n",
       "      <th>l</th>\n",
       "      <td>0.043189</td>\n",
       "      <td>0.065016</td>\n",
       "      <td>0.033867</td>\n",
       "      <td>0.104904</td>\n",
       "      <td>0.026356</td>\n",
       "      <td>0.070367</td>\n",
       "    </tr>\n",
       "    <tr>\n",
       "      <th>m</th>\n",
       "      <td>0.001201</td>\n",
       "      <td>0.058044</td>\n",
       "      <td>0.008613</td>\n",
       "      <td>0.033827</td>\n",
       "      <td>0.002588</td>\n",
       "      <td>0.024657</td>\n",
       "    </tr>\n",
       "    <tr>\n",
       "      <th>n</th>\n",
       "      <td>0.079240</td>\n",
       "      <td>0.143415</td>\n",
       "      <td>0.130687</td>\n",
       "      <td>0.152522</td>\n",
       "      <td>0.140210</td>\n",
       "      <td>0.362771</td>\n",
       "    </tr>\n",
       "    <tr>\n",
       "      <th>o</th>\n",
       "      <td>0.001660</td>\n",
       "      <td>0.017065</td>\n",
       "      <td>0.002439</td>\n",
       "      <td>0.012829</td>\n",
       "      <td>0.001243</td>\n",
       "      <td>0.042681</td>\n",
       "    </tr>\n",
       "    <tr>\n",
       "      <th>p</th>\n",
       "      <td>0.000018</td>\n",
       "      <td>0.003172</td>\n",
       "      <td>0.000023</td>\n",
       "      <td>0.005675</td>\n",
       "      <td>0.000020</td>\n",
       "      <td>0.001269</td>\n",
       "    </tr>\n",
       "    <tr>\n",
       "      <th>q</th>\n",
       "      <td>NaN</td>\n",
       "      <td>NaN</td>\n",
       "      <td>NaN</td>\n",
       "      <td>NaN</td>\n",
       "      <td>0.000030</td>\n",
       "      <td>0.000180</td>\n",
       "    </tr>\n",
       "    <tr>\n",
       "      <th>r</th>\n",
       "      <td>0.013390</td>\n",
       "      <td>0.064481</td>\n",
       "      <td>0.006764</td>\n",
       "      <td>0.031034</td>\n",
       "      <td>0.018025</td>\n",
       "      <td>0.087477</td>\n",
       "    </tr>\n",
       "    <tr>\n",
       "      <th>s</th>\n",
       "      <td>0.039042</td>\n",
       "      <td>0.130815</td>\n",
       "      <td>0.012764</td>\n",
       "      <td>0.102730</td>\n",
       "      <td>0.013332</td>\n",
       "      <td>0.065145</td>\n",
       "    </tr>\n",
       "    <tr>\n",
       "      <th>t</th>\n",
       "      <td>0.027438</td>\n",
       "      <td>0.072879</td>\n",
       "      <td>0.015201</td>\n",
       "      <td>0.065655</td>\n",
       "      <td>0.007830</td>\n",
       "      <td>0.022861</td>\n",
       "    </tr>\n",
       "    <tr>\n",
       "      <th>u</th>\n",
       "      <td>0.000684</td>\n",
       "      <td>0.000124</td>\n",
       "      <td>0.000574</td>\n",
       "      <td>0.000057</td>\n",
       "      <td>0.000417</td>\n",
       "      <td>0.001221</td>\n",
       "    </tr>\n",
       "    <tr>\n",
       "      <th>v</th>\n",
       "      <td>NaN</td>\n",
       "      <td>0.000113</td>\n",
       "      <td>0.000060</td>\n",
       "      <td>0.000037</td>\n",
       "      <td>0.000117</td>\n",
       "      <td>0.001434</td>\n",
       "    </tr>\n",
       "    <tr>\n",
       "      <th>w</th>\n",
       "      <td>0.000020</td>\n",
       "      <td>0.006329</td>\n",
       "      <td>0.000031</td>\n",
       "      <td>0.007711</td>\n",
       "      <td>0.001182</td>\n",
       "      <td>0.016148</td>\n",
       "    </tr>\n",
       "    <tr>\n",
       "      <th>x</th>\n",
       "      <td>0.000015</td>\n",
       "      <td>0.003965</td>\n",
       "      <td>0.000037</td>\n",
       "      <td>0.001851</td>\n",
       "      <td>0.000727</td>\n",
       "      <td>0.008614</td>\n",
       "    </tr>\n",
       "    <tr>\n",
       "      <th>y</th>\n",
       "      <td>0.110972</td>\n",
       "      <td>0.077349</td>\n",
       "      <td>0.152569</td>\n",
       "      <td>0.160987</td>\n",
       "      <td>0.116828</td>\n",
       "      <td>0.058168</td>\n",
       "    </tr>\n",
       "    <tr>\n",
       "      <th>z</th>\n",
       "      <td>0.002439</td>\n",
       "      <td>0.000170</td>\n",
       "      <td>0.000659</td>\n",
       "      <td>0.000184</td>\n",
       "      <td>0.000704</td>\n",
       "      <td>0.001831</td>\n",
       "    </tr>\n",
       "  </tbody>\n",
       "</table>\n",
       "</div>"
      ],
      "text/plain": [
       "year             1910                1960                2010          \n",
       "sex                 F         M         F         M         F         M\n",
       "last_letter                                                            \n",
       "a            0.273390  0.005031  0.341853  0.002440  0.381240  0.014980\n",
       "b                 NaN  0.002116  0.000343  0.001834  0.000256  0.020470\n",
       "c            0.000013  0.002482  0.000024  0.007257  0.000538  0.012181\n",
       "d            0.017028  0.113858  0.001844  0.122908  0.001482  0.023387\n",
       "e            0.336941  0.147556  0.215133  0.083853  0.178415  0.067959\n",
       "f                 NaN  0.000783  0.000010  0.004325  0.000055  0.001188\n",
       "g            0.000144  0.002250  0.000157  0.009488  0.000374  0.001404\n",
       "h            0.051529  0.045562  0.036224  0.037907  0.075852  0.051670\n",
       "i            0.001526  0.000844  0.039965  0.000603  0.031734  0.022628\n",
       "j                 NaN       NaN       NaN       NaN  0.000090  0.000769\n",
       "k            0.000121  0.036581  0.000156  0.049384  0.000356  0.018541\n",
       "l            0.043189  0.065016  0.033867  0.104904  0.026356  0.070367\n",
       "m            0.001201  0.058044  0.008613  0.033827  0.002588  0.024657\n",
       "n            0.079240  0.143415  0.130687  0.152522  0.140210  0.362771\n",
       "o            0.001660  0.017065  0.002439  0.012829  0.001243  0.042681\n",
       "p            0.000018  0.003172  0.000023  0.005675  0.000020  0.001269\n",
       "q                 NaN       NaN       NaN       NaN  0.000030  0.000180\n",
       "r            0.013390  0.064481  0.006764  0.031034  0.018025  0.087477\n",
       "s            0.039042  0.130815  0.012764  0.102730  0.013332  0.065145\n",
       "t            0.027438  0.072879  0.015201  0.065655  0.007830  0.022861\n",
       "u            0.000684  0.000124  0.000574  0.000057  0.000417  0.001221\n",
       "v                 NaN  0.000113  0.000060  0.000037  0.000117  0.001434\n",
       "w            0.000020  0.006329  0.000031  0.007711  0.001182  0.016148\n",
       "x            0.000015  0.003965  0.000037  0.001851  0.000727  0.008614\n",
       "y            0.110972  0.077349  0.152569  0.160987  0.116828  0.058168\n",
       "z            0.002439  0.000170  0.000659  0.000184  0.000704  0.001831"
      ]
     },
     "execution_count": 908,
     "metadata": {},
     "output_type": "execute_result"
    }
   ],
   "source": [
    "letter_prop"
   ]
  },
  {
   "cell_type": "markdown",
   "id": "38d0fb24-4648-43b0-a614-dc942e526af5",
   "metadata": {},
   "source": [
    "First, let's check the structure of your DataFrame: "
   ]
  },
  {
   "cell_type": "code",
   "execution_count": 911,
   "id": "37febe67-efc3-4231-bb5f-b220010e5b0e",
   "metadata": {},
   "outputs": [
    {
     "name": "stdout",
     "output_type": "stream",
     "text": [
      "DataFrame index levels: ['last_letter']\n",
      "\n",
      "DataFrame head:\n",
      " year             1910                1960                2010          \n",
      "sex                 F         M         F         M         F         M\n",
      "last_letter                                                            \n",
      "a            0.273390  0.005031  0.341853  0.002440  0.381240  0.014980\n",
      "b                 NaN  0.002116  0.000343  0.001834  0.000256  0.020470\n",
      "c            0.000013  0.002482  0.000024  0.007257  0.000538  0.012181\n",
      "d            0.017028  0.113858  0.001844  0.122908  0.001482  0.023387\n",
      "e            0.336941  0.147556  0.215133  0.083853  0.178415  0.067959\n"
     ]
    }
   ],
   "source": [
    "print(\"DataFrame index levels:\", letter_prop.index.names)\n",
    "print(\"\\nDataFrame head:\\n\", letter_prop.head())"
   ]
  },
  {
   "cell_type": "markdown",
   "id": "6cf225e9-0851-4692-bc7f-53e6102e56a7",
   "metadata": {},
   "source": [
    "Create separate DataFrames for male and female using MultiIndex and use xs (cross-section) to select data for each sex: "
   ]
  },
  {
   "cell_type": "code",
   "execution_count": 914,
   "id": "a9b62656-3eac-498f-84ab-bcef44d76d63",
   "metadata": {},
   "outputs": [],
   "source": [
    "male_data = letter_prop.xs('M', level='sex', axis=1)\n",
    "female_data = letter_prop.xs('F', level='sex', axis=1)"
   ]
  },
  {
   "cell_type": "markdown",
   "id": "b5cbc2e4-c528-45f9-ad19-b73572a02bd8",
   "metadata": {},
   "source": [
    "Verify that we have the proper data: "
   ]
  },
  {
   "cell_type": "code",
   "execution_count": 917,
   "id": "12f70da7-a9de-4c37-a581-fac3b810df8e",
   "metadata": {},
   "outputs": [],
   "source": [
    "if male_data.empty or female_data.empty:\n",
    "    print(\"Warning: No data found for one or both sexes. Please check your data.\")"
   ]
  },
  {
   "cell_type": "markdown",
   "id": "712a17f9-5f94-4efe-b251-75c9a27a3919",
   "metadata": {},
   "source": [
    "Create a bar plot for each sex:"
   ]
  },
  {
   "cell_type": "code",
   "execution_count": 920,
   "id": "8d6e6656-41ce-464b-8dc5-fef7f0073196",
   "metadata": {},
   "outputs": [
    {
     "data": {
      "image/png": "[encoded data removed]",
      "text/plain": [
       "<Figure size 1000x800 with 2 Axes>"
      ]
     },
     "metadata": {},
     "output_type": "display_data"
    }
   ],
   "source": [
    "fig, axes = plt.subplots(2, 1, figsize=(10, 8))"
   ]
  },
  {
   "cell_type": "markdown",
   "id": "f0dd45f2-3dfd-4db2-90a2-88c2458f5d31",
   "metadata": {},
   "source": [
    "Plot data:"
   ]
  },
  {
   "cell_type": "code",
   "execution_count": 924,
   "id": "827a9ddb-72e8-47de-aa06-cabce204856d",
   "metadata": {},
   "outputs": [
    {
     "data": {
      "text/plain": [
       "<Axes: title={'center': 'Female'}, xlabel='last_letter'>"
      ]
     },
     "execution_count": 924,
     "metadata": {},
     "output_type": "execute_result"
    }
   ],
   "source": [
    "male_data.plot(kind='bar', rot=0, ax=axes[0], title='Male')\n",
    "female_data.plot(kind='bar', rot=0, ax=axes[1], title='Female', legend=False)"
   ]
  },
  {
   "cell_type": "code",
   "execution_count": 926,
   "id": "a55adbe5-3803-4953-a7ed-d3f98cbf7a84",
   "metadata": {},
   "outputs": [
    {
     "name": "stdout",
     "output_type": "stream",
     "text": [
      "\n",
      "MultiIndex structure:\n",
      "MultiIndex([(1910, 'F'),\n",
      "            (1910, 'M'),\n",
      "            (1960, 'F'),\n",
      "            (1960, 'M'),\n",
      "            (2010, 'F'),\n",
      "            (2010, 'M')],\n",
      "           names=['year', 'sex'])\n"
     ]
    },
    {
     "data": {
      "text/plain": [
       "<Figure size 640x480 with 0 Axes>"
      ]
     },
     "metadata": {},
     "output_type": "display_data"
    }
   ],
   "source": [
    "# Adjust layout to prevent overlap\n",
    "plt.tight_layout()\n",
    "\n",
    "# Print the structure of the MultiIndex for reference\n",
    "print(\"\\nMultiIndex structure:\")\n",
    "print(letter_prop.columns)"
   ]
  },
  {
   "cell_type": "code",
   "execution_count": null,
   "id": "6e1db201-e413-48de-8dc4-0ccd3b758139",
   "metadata": {},
   "outputs": [],
   "source": []
  },
  {
   "cell_type": "code",
   "execution_count": null,
   "id": "21d7304d-6caf-4a97-8303-865ecbc8455d",
   "metadata": {},
   "outputs": [],
   "source": []
  }
 ],
 "metadata": {
  "kernelspec": {
   "display_name": "Python [conda env:base] *",
   "language": "python",
   "name": "conda-base-py"
  },
  "language_info": {
   "codemirror_mode": {
    "name": "ipython",
    "version": 3
   },
   "file_extension": ".py",
   "mimetype": "text/x-python",
   "name": "python",
   "nbconvert_exporter": "python",
   "pygments_lexer": "ipython3",
   "version": "3.12.7"
  }
 },
 "nbformat": 4,
 "nbformat_minor": 5
}
